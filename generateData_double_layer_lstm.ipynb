{
 "cells": [
  {
   "cell_type": "code",
   "execution_count": 1,
   "metadata": {
    "collapsed": true
   },
   "outputs": [],
   "source": [
    "import numpy as np\n",
    "import pandas as pd\n",
    "import time\n",
    "from datetime import datetime,timedelta\n",
    "import json\n",
    "import re"
   ]
  },
  {
   "cell_type": "code",
   "execution_count": 2,
   "metadata": {
    "collapsed": true
   },
   "outputs": [],
   "source": [
    "#根据log_index，增量读取log内容\n",
    "def load_log(file_name, log_index):\n",
    "    log_value_list = list()\n",
    "    date_list = list()\n",
    "    status_list = list()\n",
    "    try:\n",
    "        with open(file_name,'rb') as f:\n",
    "            for index,content in enumerate(f):\n",
    "                if index == log_index:\n",
    "                    log_data = json.loads(content.decode('utf8'))\n",
    "                    log_data['@timestamp'] = str(datetime.strptime(log_data['@timestamp'][0:19],'%Y-%m-%dT%H:%M:%S'))\n",
    "                    log_value_list.append(log_data)\n",
    "                    date_list.append(log_data['@timestamp'])\n",
    "                    log_index += 1\n",
    "                    if log_data['status'] not in status_list:\n",
    "                        status_list.append(log_data['status'])\n",
    "    except Exception as e:\n",
    "        print(e)\n",
    "    #将文本内容转化为pandas的dataframe\n",
    "    #temp_log = pd.DataFrame(log_value_list)\n",
    "    print(status_list)\n",
    "    return  log_value_list,log_index"
   ]
  },
  {
   "cell_type": "code",
   "execution_count": 3,
   "metadata": {},
   "outputs": [
    {
     "name": "stdout",
     "output_type": "stream",
     "text": [
      "['200', '302', '304', '403', '499', '404', '503', '408', '400', '504']\n"
     ]
    }
   ],
   "source": [
    "time_step = 60 #每x秒读取一次log文件\n",
    "time_windows = 120 #秒,时间窗口\n",
    "ip_dict = dict() #ip与对应操作在矩阵的下标\n",
    "ip_reserve_list = list() #操作矩阵下标对应的ip\n",
    "all_matrix = np.empty([0, 6],dtype=int)  #操作矩阵\n",
    "all_log = pd.DataFrame() #所有的日志数据\n",
    "temp_log_data = pd.DataFrame() #某时间范围的日志数据\n",
    "all_url_list = list()\n",
    "time_index = '2017-07-10 06:25:08' #记录当前的时间\n",
    "log_index = 0 #记录读到第几行了\n",
    "ip_behavior_dict = dict() #记录每个ip每分钟请求的页面url\n",
    "\n",
    "increment_log_data, log_index = load_log('0713_access_sdsl_shunnengnet_com_json.log', 0)"
   ]
  },
  {
   "cell_type": "code",
   "execution_count": 4,
   "metadata": {
    "collapsed": true
   },
   "outputs": [],
   "source": [
    "#截取url，保留其访问传参方式（POST/GET/PUT/DELETE）,保留url的头与尾\n",
    "def deal_url(url):\n",
    "    url_str = url.replace(' HTTP/1.1','')\n",
    "    if url_str.find(' ') > -1:\n",
    "        url_type = url_str[0 : url_str.find(' ')+1]\n",
    "    if url_str.find('/') > -1 and url_str.find('?') > -1:\n",
    "        url_str = url_type + url_str[url_str.find('/')+1 : url_str.find('?')]\n",
    "    if url_str.find('/') > -1 and url_str.rfind('/') > -1:\n",
    "        url_str = url_str[0 : url_str.find('/')] + '/.../' + url_str[url_str.rfind('/')+1 : ]\n",
    "    return url_str"
   ]
  },
  {
   "cell_type": "code",
   "execution_count": 5,
   "metadata": {
    "collapsed": true
   },
   "outputs": [],
   "source": [
    "#根据日志内容，创建一个信息的op_detail\n",
    "def create_op_detail(row_log):\n",
    "    op_detail = dict()\n",
    "    op_detail['start_time'] = row_log['@timestamp']\n",
    "    op_detail['end_time'] = row_log['@timestamp']\n",
    "    op_detail['urls'] = list()\n",
    "    op_detail['urls'].append(deal_url(row_log['request']))\n",
    "    return op_detail"
   ]
  },
  {
   "cell_type": "code",
   "execution_count": 6,
   "metadata": {
    "collapsed": true
   },
   "outputs": [],
   "source": [
    "#传入开始结束时间的字符串(yyyy-MM-dd HH:mm:ss)，计算时间差并返回时差(秒)\n",
    "def cacl_time_difference(start_time_str, end_time_str):\n",
    "    start_time = datetime.strptime(start_time_str,'%Y-%m-%d %H:%M:%S')\n",
    "    end_time = datetime.strptime(end_time_str,'%Y-%m-%d %H:%M:%S')\n",
    "    return int((end_time - start_time).seconds)"
   ]
  },
  {
   "cell_type": "code",
   "execution_count": 7,
   "metadata": {
    "collapsed": true
   },
   "outputs": [],
   "source": [
    "#读取log，生成携带用户行为的复合型字典\n",
    "def create_user_behavior_dict(increment_log_data, user_behavior_dict):\n",
    "    \n",
    "    for x in increment_log_data:\n",
    "        if x['sip'] != '':\n",
    "            \n",
    "            if x['sip'] not in user_behavior_dict.keys():\n",
    "                user_behavior_dict[x['sip']] = list()\n",
    "\n",
    "            if len(user_behavior_dict[x['sip']]) == 0: #opreation内没有op_detail,则创建op_detail\n",
    "                user_behavior_dict[x['sip']].append(create_op_detail(x))\n",
    "\n",
    "            if len(user_behavior_dict[x['sip']]) > 0: #opreation内已存在op_detail，此时需要循环该list的所有dict，比较时间差，如果两者时间相差<120s，更新结束时间，添加url；否则继续遍历比较直至找不到合适的区间为止，若找不到合适区间，新建\n",
    "                new_opreation = 1\n",
    "                length = len(user_behavior_dict[x['sip']])\n",
    "                i = 0\n",
    "                for op_detail in user_behavior_dict[x['sip']]:\n",
    "                    time_difference = cacl_time_difference(op_detail['end_time'], x['@timestamp'])\n",
    "                    if time_difference < 120:\n",
    "                        op_detail['end_time'] = x['@timestamp']\n",
    "                        op_detail['urls'].append(deal_url(x['request']))\n",
    "                        new_opreation = 0\n",
    "                        break\n",
    "                    if new_opreation == 1 and i+1 == length:\n",
    "                        user_behavior_dict[x['sip']].append(create_op_detail(x))\n",
    "                        break\n",
    "                        \n",
    "                    i += 1\n",
    "                    \n",
    "                \n",
    "    return user_behavior_dict\n",
    "        \n",
    "        "
   ]
  },
  {
   "cell_type": "code",
   "execution_count": 8,
   "metadata": {
    "collapsed": true
   },
   "outputs": [],
   "source": [
    "user_behavior_dict = dict()"
   ]
  },
  {
   "cell_type": "code",
   "execution_count": 9,
   "metadata": {},
   "outputs": [
    {
     "name": "stdout",
     "output_type": "stream",
     "text": [
      "25\n"
     ]
    }
   ],
   "source": [
    "start_time = datetime.now()\n",
    "user_behavior_dict = create_user_behavior_dict(increment_log_data, user_behavior_dict)\n",
    "end_time = datetime.now()\n",
    "print((end_time - start_time).seconds)"
   ]
  },
  {
   "cell_type": "code",
   "execution_count": 10,
   "metadata": {
    "collapsed": true
   },
   "outputs": [],
   "source": [
    "#定义模板list\n",
    "templates = list()\n",
    "templates.append(['GET /common/.../notice.do','POST /common/.../chooseHospital.do','GET /common/.../chooseExpert.do','GET /common/.../deptList.do','POST /.../getDept.do','GET /common/.../scheduleByDept.do','POST /.../scheduleByDept.do','GET /common/.../arrangementList.do','POST /.../getTimeList.do','GET /common/.../reserveConfirm.do','POST /.../reserveConfirm.do','POST /.../reserve.do']) #普通专家预约\n",
    "templates.append(['GET /common/.../notice.do','POST /common/.../chooseHospital.do','GET /common/.../chooseExpert.do','GET /common/.../expertNotice.do','POST /common/.../deptList.do','POST /.../getDept.do','GET /common/.../scheduleByDept.do','POST /.../scheduleByDept.do','GET /common/.../arrangementList.do','POST /.../getTimeList.do','GET /common/.../reserveConfirm.do','POST /.../reserveConfirm.do','POST /.../reserve.do'])#知名专家预约\n",
    "templates.append(['GET /common/.../notice.do','POST /common/.../chooseHospital.do','GET /common/.../chooseExpert.do','GET /common/.../specialClinic.do','POST /.../getDepts.do','GET /common/.../specialSchedule.do','POST /.../specialSchedule.do','GET /common/.../arrangementList.do','POST /.../getTimeList.do','GET /common/.../reserveConfirm.do','POST /.../reserveConfirm.do','POST /.../reserve.do'])#特色门诊预约\n",
    "templates.append(['GET /common/.../patientinfo.do','GET /common/.../reserveList.do','POST /.../getReserveList.do','GET /common/.../reserveDetail.do','POST /.../cancelReserve.do'])#取消预约\n",
    "templates.append(['GET /common/.../patientinfo.do','GET /common/.../patientMgr.do ','GET /.../patientinfo.do','GET /common/.../addPatient.do','POST /.../checkIdCard.do','POST /.../create.do'])#新增就诊人\n",
    "templates.append(['GET /common/.../patientinfo.do','GET /common/.../patientMgr.do ','GET /common/.../editPatient.do','POST /.../getPatientInfoById.do','POST /.../setDefault.do',''])#设置默认就诊人\n",
    "templates.append(['GET /common/.../patientinfo.do','GET /common/.../patientMgr.do ','GET /common/.../editPatient.do','POST /.../getPatientInfoById.do','GET /common/.../bind.do','POST /.../bindHosCard.do'])#绑卡\n",
    "templates.append(['GET /common/.../patientinfo.do','GET /common/.../patientMgr.do ','GET /common/.../editPatient.do','POST /.../getPatientInfoById.do','GET /.../deletePatient.do'])#删除就诊人\n",
    "templates.append(['GET /.../init.do','GET /common/.../reportType.do ','GET /common/.../reportList.do','GET /.../getReportList.do','GET /common/.../reportDetail.do','GET /.../getReportDeatil.do'])#门诊报告\n",
    "templates.append(['GET /.../init.do','GET /common/.../reportType.do ','GET /common/.../reportList.do','GET /.../getReportInList.do','GET /.../getReportDeatil.do'])#住院报告\n",
    "templates.append(['GET /.../init.do','GET /common/.../index.do','GET /common/.../balance.do','GET /.../patientBalance.do'])#门诊预交金\n",
    "templates.append(['GET /.../init.do','GET /common/.../index.do','GET /common/.../hosBalance.do','POST /.../inBalance.do'])#住院预交金\n",
    "templates.append(['GET /.../init.do','GET /common/.../index.do','GET /common/.../outpFeeList.do','POST /.../feeList.do','GET /common/.../feeDetail.do','POST /.../feeDetail.do'])#门诊费用\n",
    "templates.append(['GET /.../init.do','GET /common/.../index.do','GET /common/.../inpFeeList.do','POST /.../feeList.do','GET /common/.../feeDetail.do','POST /.../feeDetail.do'])#住院费用\n",
    "templates.append(['GET /.../init.do','GET /common/.../reserveQueueList.do','POST /.../getQueueList.do'])#候诊队列\n",
    "templates.append(['POST coreServlet'])#处理微信发送来的数据\n",
    "templates.append(['GET common/.../arrangementList.do', 'GET /.../404.do','POST /.../getTimeList.do'])#异常模板1\n",
    "#templates.append(['POST /.../getTimeList.do','POST /.../getTimeList.do','GET common/.../arrangementList.do','GET /.../404.do','GET common/.../arrangementList.do','GET /.../404.do'])#异常模板1\n",
    "templates.append(['GET common/.../scheduleByDept.do','POST /.../scheduleByDept.do','POST /.../getTimeList.do','GET common/.../arrangementList.do','POST /.../getTimeList.do', 'POST /.../getTimeList.do','POST /.../getTimeList.do','POST /.../getTimeList.do', 'POST /.../getTimeList.do'])#异常模板2\n",
    "#templates.append(['GET common/.../arrangementList.do', 'GET common/.../arrangementList.do', 'GET common/.../arrangementList.do', 'POST /.../getTimeList.do', 'POST /.../getTimeList.do', 'POST /.../getTimeList.do', 'POST /.../getTimeList.do', 'POST /.../getTimeList.do', 'POST /.../getTimeList.do', 'POST /.../getTimeList.do', 'POST /.../getTimeList.do', 'POST /.../getTimeList.do'])#异常模板3\n",
    "templates.append(['GET /common/.../deptList.do','POST /.../getDept.do','GET /common/.../scheduleByDept.do','POST /.../scheduleByDept.do','GET /common/.../arrangementList.do','POST /.../getTimeList.do'])"
   ]
  },
  {
   "cell_type": "code",
   "execution_count": 149,
   "metadata": {},
   "outputs": [],
   "source": [
    "probability_dict = dict()\n",
    "\n",
    "for x in user_behavior_dict.keys():\n",
    "    for op_detail in user_behavior_dict[x]:\n",
    "        matched_operations = np.zeros(len(templates),dtype='float32')\n",
    "        total_secs = cacl_time_difference(op_detail['start_time'], op_detail['end_time']) + 5\n",
    "        op_per_sec = len(op_detail['urls'])/total_secs\n",
    "        \n",
    "        for idx,template in enumerate(templates):\n",
    "            n_template = len(template)\n",
    "            count = 0\n",
    "            probability_count = 0\n",
    "            for str in template:\n",
    "                if str in op_detail['urls']:\n",
    "                    probability_count += 1\n",
    "            for url in op_detail['urls']:\n",
    "                if url in template:\n",
    "                    count += 1\n",
    "            n_op = max(len(op_detail['urls']),16)\n",
    "\n",
    "            #(probability_count / n_template) 模板被匹配到的百分比\n",
    "            #(count / n_op) 刷单操作占总操作的百分比，刷的越厉害这个越高\n",
    "            # op_per_sec 平均每秒中的操作数，操作越快越像刷单\n",
    "            matched_operations[idx] = (probability_count / n_template) * (count / n_op) #* op_per_sec\n",
    "        if x not in probability_dict.keys():\n",
    "            probability_dict[x] = matched_operations.reshape([1,19])\n",
    "        else:\n",
    "            probability_dict[x] = np.vstack((probability_dict[x],matched_operations))\n",
    "        \n",
    "        "
   ]
  },
  {
   "cell_type": "code",
   "execution_count": 133,
   "metadata": {},
   "outputs": [
    {
     "data": {
      "text/plain": [
       "18077"
      ]
     },
     "execution_count": 133,
     "metadata": {},
     "output_type": "execute_result"
    }
   ],
   "source": [
    "idx = 0\n",
    "for x in user_behavior_dict.keys():\n",
    "    idx += len(user_behavior_dict[x])\n",
    "idx"
   ]
  },
  {
   "cell_type": "code",
   "execution_count": 134,
   "metadata": {},
   "outputs": [
    {
     "data": {
      "text/plain": [
       "8"
      ]
     },
     "execution_count": 134,
     "metadata": {},
     "output_type": "execute_result"
    }
   ],
   "source": [
    "len(probability_dict['223.96.152.23'])"
   ]
  },
  {
   "cell_type": "code",
   "execution_count": 103,
   "metadata": {
    "collapsed": true
   },
   "outputs": [],
   "source": [
    "frequency_dict = dict()\n",
    "for x in increment_log_data:\n",
    "    if x['sip'] != '':\n",
    "        if x['sip'] not in frequency_dict.keys():\n",
    "            frequency_dict[x['sip']] = 0\n",
    "        frequency_dict[x['sip']] += 1"
   ]
  },
  {
   "cell_type": "code",
   "execution_count": 104,
   "metadata": {
    "collapsed": true
   },
   "outputs": [],
   "source": [
    "frequency_list = sorted(frequency_dict.items(), key=lambda d: d[1])"
   ]
  },
  {
   "cell_type": "code",
   "execution_count": 105,
   "metadata": {
    "scrolled": true
   },
   "outputs": [],
   "source": [
    "#查看大于某频度值的ip\n",
    "# for x in frequency_list:\n",
    "#     if x[1] > 500:\n",
    "#         for y in range(0, len(user_behavior_dict[x[0]])):\n",
    "#             print(x[0])\n",
    "#             print(user_behavior_dict[x[0]][y])\n",
    "#             print(probability_dict[x[0]][y])"
   ]
  },
  {
   "cell_type": "code",
   "execution_count": 106,
   "metadata": {
    "collapsed": true
   },
   "outputs": [],
   "source": [
    "import time\n",
    "#速度变慢的罪魁祸首\n",
    "def judge_time_range(start_time_str, end_time_str, time_str):\n",
    "    start_date = time.strptime(start_time_str,'%Y-%m-%d %H:%M:%S')\n",
    "    end_date = time.strptime(end_time_str,'%Y-%m-%d %H:%M:%S')\n",
    "    time_date = time.strptime(time_str,'%Y-%m-%d %H:%M:%S')\n",
    "    \n",
    "    if time_date > start_date and time_date < end_date:\n",
    "        return True\n",
    "    else:\n",
    "        return False\n",
    "    "
   ]
  },
  {
   "cell_type": "code",
   "execution_count": 107,
   "metadata": {},
   "outputs": [
    {
     "ename": "SyntaxError",
     "evalue": "invalid syntax (<ipython-input-107-363f17e16b28>, line 11)",
     "output_type": "error",
     "traceback": [
      "\u001b[1;36m  File \u001b[1;32m\"<ipython-input-107-363f17e16b28>\"\u001b[1;36m, line \u001b[1;32m11\u001b[0m\n\u001b[1;33m    class_type = probability_dict[ip][-,16:].sum()\u001b[0m\n\u001b[1;37m                                       ^\u001b[0m\n\u001b[1;31mSyntaxError\u001b[0m\u001b[1;31m:\u001b[0m invalid syntax\n"
     ]
    }
   ],
   "source": [
    "def get_operation_label(ip, time):\n",
    "    global probability_dict\n",
    "    class_type = 0\n",
    "    for x in user_behavior_dict:\n",
    "        if x == ip:\n",
    "            index = 0\n",
    "            for op_detail in user_behavior_dict[x]:\n",
    "                start_str = op_detail['start_time']\n",
    "                end_str = op_detail['end_time']\n",
    "                if judge_time_range(start_str, end_str, time):\n",
    "                    class_type = probability_dict[ip][-,16:].sum()\n",
    "                    #if probability_dict[ip][:,16:].sum() > 1:\n",
    "                        #class_type = 1\n",
    "                    #elif probability_dict[ip][index,17] > 0.4:\n",
    "                        #class_type = 1\n",
    "                   # elif probability_dict[ip][index,18] > 0.4:\n",
    "                        #class_type = 1\n",
    "                    break #如果匹配到了，也给了class_type了，还继续循环干什么\n",
    "                else:\n",
    "                    index += 1\n",
    "    return class_type"
   ]
  },
  {
   "cell_type": "code",
   "execution_count": 108,
   "metadata": {},
   "outputs": [
    {
     "data": {
      "text/plain": [
       "(1, 19)"
      ]
     },
     "execution_count": 108,
     "metadata": {},
     "output_type": "execute_result"
    }
   ],
   "source": [
    "probability_dict['27.204.15.164'].shape"
   ]
  },
  {
   "cell_type": "code",
   "execution_count": 109,
   "metadata": {},
   "outputs": [
    {
     "data": {
      "text/plain": [
       "0.61949319"
      ]
     },
     "execution_count": 109,
     "metadata": {},
     "output_type": "execute_result"
    }
   ],
   "source": [
    "probability_dict['39.71.57.17'][:,16:].sum()"
   ]
  },
  {
   "cell_type": "code",
   "execution_count": 110,
   "metadata": {},
   "outputs": [
    {
     "data": {
      "text/plain": [
       "4.5126047"
      ]
     },
     "execution_count": 110,
     "metadata": {},
     "output_type": "execute_result"
    }
   ],
   "source": [
    "get_operation_label('27.204.15.164', '2017-07-13 19:18:56')"
   ]
  },
  {
   "cell_type": "code",
   "execution_count": 111,
   "metadata": {
    "collapsed": true
   },
   "outputs": [],
   "source": [
    "#----------------------start\n",
    "class IPAccessInfo(object):\n",
    "    def __init__(self, all_url_list, all_url_dict_list):\n",
    "        self.all_url_list = all_url_list\n",
    "        self.all_url_dict_list = all_url_dict_list\n",
    "        \n",
    "import pickle\n",
    "fp = open('url_info.pkl','rb',True)\n",
    "iPAccessInfo = pickle.load(fp)"
   ]
  },
  {
   "cell_type": "code",
   "execution_count": 112,
   "metadata": {},
   "outputs": [
    {
     "name": "stdout",
     "output_type": "stream",
     "text": [
      "(162, 1, 32)\n",
      "[[[ 0.03654477 -0.03177589 -0.02952494 ...,  0.0237189   0.00231814\n",
      "    0.03386502]]\n",
      "\n",
      " [[-0.03017677 -0.00110988  0.0442226  ..., -0.0302777  -0.01121916\n",
      "    0.01873815]]\n",
      "\n",
      " [[ 0.04072422 -0.02663457  0.02623384 ..., -0.01469091 -0.01961044\n",
      "    0.00813953]]\n",
      "\n",
      " ..., \n",
      " [[ 0.0428668  -0.04194156 -0.01407099 ...,  0.02149953  0.0487067\n",
      "    0.02792516]]\n",
      "\n",
      " [[ 0.02159942 -0.02935338  0.02947632 ..., -0.0206544   0.01012788\n",
      "    0.02063049]]\n",
      "\n",
      " [[-0.00404527  0.0194104  -0.03394111 ..., -0.01592012  0.00888164\n",
      "    0.02377509]]]\n"
     ]
    }
   ],
   "source": [
    "from keras.models import Sequential\n",
    "from keras.layers import Embedding\n",
    "\n",
    "#列出唯一的url\n",
    "url_dict = dict()\n",
    "for urls in iPAccessInfo.all_url_list:\n",
    "    for url in urls:\n",
    "        if url not in url_dict.keys():\n",
    "            url_dict[url] = 1\n",
    "        else:\n",
    "            url_dict[url] = url_dict[url] + 1\n",
    "            \n",
    "url_list = list(url_dict.keys())\n",
    "\n",
    "#将url embedding，转为固定长度的向量\n",
    "num_urls = len(url_list)\n",
    "model = Sequential()\n",
    "model.add(Embedding(num_urls, 32, input_length=1))\n",
    "model.compile('rmsprop', 'mse')\n",
    "\n",
    "input_array = np.array(range(num_urls))   #生成一个[num_url,1]的矩阵\n",
    "output_array = model.predict(input_array)\n",
    "print (output_array.shape)\n",
    "print (output_array)\n",
    "\n",
    "# 建立url_dict备查\n",
    "url_dict = dict()\n",
    "idx = 0\n",
    "for url in url_list:\n",
    "    url_dict[url] = output_array[idx,0,:]\n",
    "    idx = idx + 1"
   ]
  },
  {
   "cell_type": "code",
   "execution_count": 135,
   "metadata": {
    "collapsed": true
   },
   "outputs": [],
   "source": [
    "#老版本数据转换，将按照时间窗口、ip进行归类的urls列表，转化为时序data\n",
    "# def operations_to_sequence(all_url_dict_list):\n",
    "#     operation_matrix = np.zeros((len(all_url_dict_list),20,32))\n",
    "#     ip_operation_index = 0\n",
    "#     for ip_operations in all_url_dict_list: #对于每小段窗口，以ip归类的urls集合\n",
    "#         ip_operation_url_index = 0\n",
    "#         for url in ip_operations['urls']: #如果是dict字典的话\n",
    "#             url_vector = url_dict[url]\n",
    "#             operation_matrix[ip_operation_index, ip_operation_url_index, :] = url_vector\n",
    "#             ip_operation_url_index = ip_operation_url_index + 1\n",
    "#             if ip_operation_url_index>=20:  #不超过20个长度的序列，可以改\n",
    "#                 break\n",
    "#         ip_operation_index = ip_operation_index + 1\n",
    "#     return operation_matrix\n",
    "\n",
    "\n",
    "#新版本数据转换，将按照ip地址，然后里面的几段行为数据，转化为时序data\n",
    "# 数据格式为：\n",
    "# {'223.104.186.241': [{'end_time': '2017-07-13 06:25:32',\n",
    "#    'start_time': '2017-07-13 06:25:02',\n",
    "#    'urls': ['POST /.../getDept.do',\n",
    "#     'POST /.../getDept.do',\n",
    "#     'GET common/.../scheduleByDept.do',\n",
    "#     'POST /.../scheduleByDept.do',\n",
    "#     'GET common/.../arrangementList.do',\n",
    "#     'GET common/.../arrangementList.do',\n",
    "#     'POST /.../getTimeList.do',\n",
    "#     'GET common/.../reserveConfirm.do',\n",
    "#     'POST /.../reserveConfirm.do',\n",
    "#     'GET common/.../patientList.do',\n",
    "#     'GET /.../patientinfo.do',\n",
    "#     'GET common/.../reserveConfirm.do',\n",
    "#     'POST /.../reserveConfirm.do',\n",
    "#     'POST /.../reserve.do']},\n",
    "#   {'end_time': '2017-07-13 07:31:18',\n",
    "#    'start_time': '2017-07-13 07:26:36',\n",
    "#    'urls': ['GET /.../noticePage.html',\n",
    "\n",
    "def operations_to_sequence(user_behavior_dict):\n",
    "    #计算这个dict中有多少段操作\n",
    "    n_op_details = 0\n",
    "    for x in user_behavior_dict.keys():\n",
    "        n_op_details += len(user_behavior_dict[x])\n",
    "    \n",
    "    operation_matrix = np.zeros((n_op_details,30,32))\n",
    "    ip_operation_index = 0\n",
    "    for ip in user_behavior_dict.keys(): #对于每个ip,得到op_detail列表\n",
    "        for op_detail in user_behavior_dict[ip]: #对于每一组urls操作\n",
    "            ip_operation_url_index = 0\n",
    "            for url in op_detail['urls']: #对于每一个url\n",
    "                url_vector = url_dict[url]  #翻译为url对应的vector\n",
    "                operation_matrix[ip_operation_index, ip_operation_url_index, :] = url_vector\n",
    "                ip_operation_url_index += 1\n",
    "                if ip_operation_url_index>=30:  #不超过20个长度的序列，可以改\n",
    "                    break\n",
    "            ip_operation_index += 1\n",
    "    return operation_matrix"
   ]
  },
  {
   "cell_type": "code",
   "execution_count": 136,
   "metadata": {},
   "outputs": [
    {
     "name": "stdout",
     "output_type": "stream",
     "text": [
      "(18077, 30, 32)\n"
     ]
    }
   ],
   "source": [
    "data = operations_to_sequence(user_behavior_dict)\n",
    "print (data.shape) #数据编码，我就是快，数据量大640倍，还是快。。。"
   ]
  },
  {
   "cell_type": "code",
   "execution_count": 140,
   "metadata": {
    "collapsed": true
   },
   "outputs": [],
   "source": [
    "n_class = 2\n",
    "# 旧版的数据转换\n",
    "# def label_operations(all_url_dict_list):\n",
    "#     operation_label = np.zeros(len(all_url_dict_list)) # 先按照0 1 2 3，一维数组排序\n",
    "#     ip_operation_index = 0\n",
    "#     for ip_operations in all_url_dict_list: #对于每小段窗口，以ip归类的urls集合\n",
    "#         operation_label[ip_operation_index] = get_operation_label(ip_operations['ip'],ip_operations['time'])\n",
    "#         ip_operation_index = ip_operation_index + 1\n",
    "        \n",
    "#     #转化为one-hot编码的label\n",
    "#     return operation_label\n",
    "\n",
    "\n",
    "def label_operations(user_behavior_dict):\n",
    "    #计算这个dict中有多少段操作\n",
    "    n_op_details = 0\n",
    "    for x in user_behavior_dict.keys():\n",
    "        n_op_details += len(user_behavior_dict[x])\n",
    "        \n",
    "    operation_labels = np.zeros(n_op_details) # 先按照0 1 2 3，一维数组排序\n",
    "    ip_operation_index = 0\n",
    "    for ip in user_behavior_dict.keys(): #对于每个ip,得到op_detail列表\n",
    "        for op_index in range(len(user_behavior_dict[ip])): #对于每一组urls操作，得到其index \n",
    "            prob = probability_dict[ip][op_index,16:].sum() #每一小组op_detail['urls']对应的向量，后三列相加\n",
    "            if prob>0.2:\n",
    "                operation_labels[ip_operation_index] = 1\n",
    "            else:\n",
    "                operation_labels[ip_operation_index] = 0\n",
    "            ip_operation_index = ip_operation_index + 1\n",
    "        \n",
    "    return operation_labels"
   ]
  },
  {
   "cell_type": "code",
   "execution_count": 141,
   "metadata": {},
   "outputs": [
    {
     "name": "stdout",
     "output_type": "stream",
     "text": [
      "(18077,)\n"
     ]
    }
   ],
   "source": [
    "# tmd为啥这么慢，为啥这么慢，为啥这么慢啊!!!!!!\n",
    "labels = label_operations(user_behavior_dict)\n",
    "print (labels.shape)"
   ]
  },
  {
   "cell_type": "code",
   "execution_count": 142,
   "metadata": {},
   "outputs": [
    {
     "data": {
      "text/plain": [
       "380"
      ]
     },
     "execution_count": 142,
     "metadata": {},
     "output_type": "execute_result"
    }
   ],
   "source": [
    "(labels==1).sum()"
   ]
  },
  {
   "cell_type": "code",
   "execution_count": 124,
   "metadata": {
    "scrolled": true
   },
   "outputs": [],
   "source": [
    "# #labels\n",
    "# b = np.argsort(labels)\n",
    "# b = b.tolist()\n",
    "# b.reverse()\n",
    "# for x in b:\n",
    "#     if labels[x] > 0.9 and labels[x] < 1:\n",
    "#         #ip = iPAccessInfo.all_url_dict_list[x]['ip']\n",
    "#         print(iPAccessInfo.all_url_dict_list[x])\n",
    "        \n",
    "        "
   ]
  },
  {
   "cell_type": "code",
   "execution_count": 143,
   "metadata": {},
   "outputs": [
    {
     "data": {
      "text/plain": [
       "380"
      ]
     },
     "execution_count": 143,
     "metadata": {},
     "output_type": "execute_result"
    }
   ],
   "source": [
    "(labels==1).sum() #验证每个类别的个数"
   ]
  },
  {
   "cell_type": "code",
   "execution_count": 111,
   "metadata": {
    "collapsed": true
   },
   "outputs": [],
   "source": [
    "#网址embedding表示，应该不需要进行正规化吧\n",
    "# from sklearn.preprocessing import MinMaxScaler\n",
    "# scaler = MinMaxScaler()\n",
    "\n",
    "# #由于时序序列数据，是（？，时间长度，数据长度）的，所以应该执行一个reshape\n",
    "# X = scaler.fit_transform(data.reshape([-1,20*32]))\n",
    "# X = X.reshape([-1,20,32])"
   ]
  },
  {
   "cell_type": "code",
   "execution_count": 60,
   "metadata": {
    "collapsed": true
   },
   "outputs": [],
   "source": [
    "# 定义保存数据的类\n",
    "import numpy as np\n",
    "\n",
    "#定义类\n",
    "class IPAccessData(object):\n",
    "    def __init__(self, X, y):\n",
    "        self.X = X\n",
    "        self.y = y\n",
    "#         self.ip_dict = ip_dict\n",
    "#         self.ip_reserve_list = ip_reserve_list\n",
    "#         self.data_scaler = data_scaler\n",
    "\n",
    "# 保存文件为pkl\n",
    "import pickle\n",
    "\n",
    "iPAccessData = IPAccessData(data,labels)\n",
    "fp = open('iPAccessData.pkl','wb',True)\n",
    "pickle.dump(iPAccessData, fp)"
   ]
  },
  {
   "cell_type": "code",
   "execution_count": 144,
   "metadata": {},
   "outputs": [],
   "source": [
    "ip_labels = np.zeros(len(user_behavior_dict.keys()))\n",
    "ips = list(user_behavior_dict.keys())\n",
    "ip_index = 0\n",
    "op_index = 0\n",
    "for x in user_behavior_dict.keys():\n",
    "    n_operations = len(user_behavior_dict[x])\n",
    "    ip_labels[ip_index] = labels[op_index:op_index+n_operations].sum()/n_operations\n",
    "    ip_index += 1\n",
    "    op_index += n_operations\n"
   ]
  },
  {
   "cell_type": "code",
   "execution_count": 146,
   "metadata": {},
   "outputs": [
    {
     "data": {
      "text/plain": [
       "['223.81.196.208',\n",
       " '112.225.44.216',\n",
       " '112.232.150.64',\n",
       " '112.224.19.61',\n",
       " '39.64.194.29',\n",
       " '112.231.229.204',\n",
       " '171.127.188.210',\n",
       " '27.204.4.166',\n",
       " '39.64.155.14',\n",
       " '218.201.124.231',\n",
       " '112.224.2.101',\n",
       " '112.224.65.236',\n",
       " '113.128.56.35',\n",
       " '123.134.182.6',\n",
       " '111.16.227.74',\n",
       " '124.128.251.67',\n",
       " '117.136.94.124',\n",
       " '111.37.0.113',\n",
       " '112.232.125.242',\n",
       " '218.56.242.97',\n",
       " '123.134.230.0',\n",
       " '144.52.185.248',\n",
       " '112.229.24.207',\n",
       " '123.134.153.181',\n",
       " '60.216.156.84',\n",
       " '123.134.255.102',\n",
       " '144.12.24.42',\n",
       " '112.224.1.112',\n",
       " '112.232.15.90',\n",
       " '123.134.225.75',\n",
       " '27.204.19.242',\n",
       " '223.96.152.38',\n",
       " '123.233.53.78',\n",
       " '119.176.250.17',\n",
       " '112.229.247.84',\n",
       " '124.128.121.17',\n",
       " '39.70.4.161',\n",
       " '119.162.49.146',\n",
       " '112.234.91.162',\n",
       " '144.255.5.41',\n",
       " '39.64.179.237',\n",
       " '120.192.66.41',\n",
       " '119.163.6.59',\n",
       " '27.211.35.192',\n",
       " '112.224.19.2',\n",
       " '58.56.92.14',\n",
       " '123.233.150.157',\n",
       " '218.58.175.182',\n",
       " '61.156.219.212',\n",
       " '112.38.44.61',\n",
       " '123.232.148.60',\n",
       " '123.233.209.252',\n",
       " '124.133.236.92',\n",
       " '123.233.216.155',\n",
       " '112.224.1.207',\n",
       " '112.230.245.190',\n",
       " '39.70.255.206',\n",
       " '39.78.255.37',\n",
       " '112.38.120.121',\n",
       " '123.233.247.163',\n",
       " '60.208.80.238',\n",
       " '112.247.53.225',\n",
       " '113.128.57.189',\n",
       " '113.128.101.2',\n",
       " '222.175.169.58',\n",
       " '182.46.165.93',\n",
       " '223.96.156.146',\n",
       " '112.230.171.30',\n",
       " '1.180.235.36',\n",
       " '39.70.79.200',\n",
       " '223.98.166.14',\n",
       " '119.178.1.24',\n",
       " '27.204.15.164',\n",
       " '112.224.1.167',\n",
       " '113.120.45.117',\n",
       " '27.204.57.253',\n",
       " '103.37.150.35',\n",
       " '112.231.159.37',\n",
       " '223.104.188.134',\n",
       " '119.164.196.52',\n",
       " '113.120.45.162',\n",
       " '113.128.97.40',\n",
       " '27.195.74.19',\n",
       " '124.128.139.100',\n",
       " '39.71.41.116',\n",
       " '223.98.178.60',\n",
       " '39.71.148.60',\n",
       " '111.14.128.134',\n",
       " '113.129.216.243',\n",
       " '112.224.20.169',\n",
       " '223.96.156.230',\n",
       " '182.32.47.52',\n",
       " '123.233.118.194',\n",
       " '123.134.153.18',\n",
       " '113.128.72.124',\n",
       " '39.64.29.138',\n",
       " '113.129.81.108',\n",
       " '113.128.129.87',\n",
       " '113.128.97.18',\n",
       " '223.98.178.151',\n",
       " '39.82.203.202',\n",
       " '119.162.36.9',\n",
       " '112.224.20.44',\n",
       " '223.97.106.108',\n",
       " '183.198.227.38',\n",
       " '111.16.224.201',\n",
       " '113.129.246.51',\n",
       " '112.229.111.100',\n",
       " '112.232.105.23',\n",
       " '39.83.242.163',\n",
       " '58.58.135.150',\n",
       " '111.34.41.134',\n",
       " '111.14.173.182',\n",
       " '39.64.80.37',\n",
       " '219.72.200.243',\n",
       " '223.99.197.201',\n",
       " '223.98.177.94',\n",
       " '124.128.109.207',\n",
       " '39.64.71.197',\n",
       " '119.187.42.63',\n",
       " '144.123.65.1',\n",
       " '223.98.172.155',\n",
       " '140.250.79.179',\n",
       " '119.162.163.146',\n",
       " '112.38.90.193',\n",
       " '61.133.102.59',\n",
       " '112.224.67.254']"
      ]
     },
     "execution_count": 146,
     "metadata": {},
     "output_type": "execute_result"
    }
   ],
   "source": [
    "[ips[idx] for idx,x in enumerate(ip_labels) if x>=0.6]"
   ]
  },
  {
   "cell_type": "code",
   "execution_count": 150,
   "metadata": {
    "scrolled": false
   },
   "outputs": [
    {
     "name": "stdout",
     "output_type": "stream",
     "text": [
      "[[ 0.046875    0.04326923  0.00520833  0.          0.          0.          0.\n",
      "   0.          0.          0.          0.          0.          0.          0.\n",
      "   0.          0.          0.125       0.3125      0.09375   ]]\n"
     ]
    },
    {
     "data": {
      "text/plain": [
       "[{'end_time': '2017-07-13 12:36:40',\n",
       "  'start_time': '2017-07-13 12:36:26',\n",
       "  'urls': ['GET common/.../notice.do',\n",
       "   'GET common/.../notice.do',\n",
       "   'POST common/.../chooseHospital.do',\n",
       "   'GET common/.../chooseExpert.do',\n",
       "   'GET common/.../deptList.do',\n",
       "   'POST /.../getDept.do',\n",
       "   'GET common/.../scheduleByDept.do',\n",
       "   'POST /.../scheduleByDept.do',\n",
       "   'GET common/.../arrangementList.do',\n",
       "   'GET common/.../arrangementList.do',\n",
       "   'POST /.../getTimeList.do']}]"
      ]
     },
     "execution_count": 150,
     "metadata": {},
     "output_type": "execute_result"
    }
   ],
   "source": [
    "ip = '119.162.49.146'\n",
    "print (probability_dict[ip])\n",
    "user_behavior_dict[ip]"
   ]
  },
  {
   "cell_type": "code",
   "execution_count": null,
   "metadata": {
    "collapsed": true
   },
   "outputs": [],
   "source": []
  }
 ],
 "metadata": {
  "kernelspec": {
   "display_name": "Python 3",
   "language": "python",
   "name": "python3"
  },
  "language_info": {
   "codemirror_mode": {
    "name": "ipython",
    "version": 3
   },
   "file_extension": ".py",
   "mimetype": "text/x-python",
   "name": "python",
   "nbconvert_exporter": "python",
   "pygments_lexer": "ipython3",
   "version": "3.6.1"
  }
 },
 "nbformat": 4,
 "nbformat_minor": 2
}
