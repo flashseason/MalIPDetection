{
 "cells": [
  {
   "cell_type": "code",
   "execution_count": 74,
   "metadata": {
    "collapsed": true
   },
   "outputs": [],
   "source": [
    "import numpy as np\n",
    "import pandas as pd\n",
    "import time\n",
    "from datetime import datetime,timedelta\n",
    "import json\n",
    "import re"
   ]
  },
  {
   "cell_type": "code",
   "execution_count": 75,
   "metadata": {
    "collapsed": true
   },
   "outputs": [],
   "source": [
    "#根据log_index，增量读取log内容\n",
    "def load_log(file_name, log_index):\n",
    "    log_value_list = list()\n",
    "    date_list = list()\n",
    "    try:\n",
    "        with open(file_name,'rb') as f:\n",
    "            for index,content in enumerate(f):\n",
    "                if index == log_index:\n",
    "                    log_data = json.loads(content.decode('utf8'))\n",
    "                    log_data['@timestamp'] = str(datetime.strptime(log_data['@timestamp'][0:19],'%Y-%m-%dT%H:%M:%S'))\n",
    "                    log_value_list.append(log_data)\n",
    "                    date_list.append(log_data['@timestamp'])\n",
    "                    log_index += 1\n",
    "    except Exception as e:\n",
    "        print(e)\n",
    "    #将文本内容转化为pandas的dataframe\n",
    "    temp_log = pd.DataFrame(log_value_list, index=date_list)\n",
    "    return  temp_log,log_index"
   ]
  },
  {
   "cell_type": "code",
   "execution_count": 76,
   "metadata": {
    "collapsed": true
   },
   "outputs": [],
   "source": [
    "#移动时间窗口，返回时间范围内新增的数据\n",
    "def load_log_by_interval(all_log, time_windows, time_index):\n",
    "    start_time = str(time_index)\n",
    "    end_date = time_index + timedelta(seconds=time_windows) #根据时间窗口计算结束时间\n",
    "    end_time = str(end_date)\n",
    "    return all_log[start_time: end_time]\n",
    "    "
   ]
  },
  {
   "cell_type": "code",
   "execution_count": 77,
   "metadata": {
    "collapsed": true
   },
   "outputs": [],
   "source": [
    "#根据正则表达式匹配字符串，reg：正则，check_str：待匹配字符串， 返回True，False\n",
    "def reg_check(reg, check_str):\n",
    "    result = re.search(reg,check_str,re.M|re.I) #正则表达式匹配\n",
    "    if result:\n",
    "        return True\n",
    "    else:\n",
    "        return False"
   ]
  },
  {
   "cell_type": "code",
   "execution_count": 88,
   "metadata": {
    "collapsed": true
   },
   "outputs": [],
   "source": [
    "#判断用户的操作类型（SQL注入、非支付平台访问、爬虫访问等不合法的网络入侵行为），生成一个用户行为矩阵并记录好用户的ip地址，ip地址使用user_op_list[x][\"sip\"]\n",
    "'''\n",
    "    每一列代表的意义（某时间窗内）：\n",
    "    1.正常访问次数\n",
    "    2.SQL注入\n",
    "    3.非支付平台访问\n",
    "    4.爬虫爬取\n",
    "    5.不合理URI请求（请求非.do .js .css .html .jpg .png的地址）\n",
    "    6.恶意挂马\n",
    "'''\n",
    "def cerate_one_hot_encodeing(temp_log_data):\n",
    "    \n",
    "    '''\n",
    "        定义正则表达式匹配相关内容\n",
    "    '''\n",
    "    trojan_reg = r'<script(.+?)/script>|<style(.+?)/style>|<[^>]*>' #匹配request中嵌入的html，js，css,php代码   其他挂马暂时不知如何匹配\n",
    "    pay_flatform_reg = r'Ali+|MicroMessenger|MQQBrowser' #^((?!XXX).)*$\n",
    "    spider_reg = r'spiderman|Go-http-client'\n",
    "    sql_reg = r'/(\\%27)|(\\')|(\\-\\-)|(\\%23)|(#)/ix|/((\\%3D)|(=))[^\\n]*((\\%27)|(\\')|(\\-\\-)|(\\%3B)|(:))/i|/\\w*((\\%27)|(\\'))((\\%6F)|o|(\\%4F))((\\%72)|r|(\\%52))/ix|/((\\%27)|(\\'))union/ix(\\%27)|(\\')' #正则表达式匹配SQL语句\n",
    "    illegal_url_reg = r'/.*\\.(?:(?!(do|jpg|png|html|js|css)).)+/ ' #匹配除了.do .jpg .png .html .js .css之外的扩展名\n",
    "\n",
    "    ip_list = list()\n",
    "    req_list = list()\n",
    "    temp_matrix = list()\n",
    "    \n",
    "    length =  len(temp_log_data.index)\n",
    "    \n",
    "    for x in range(0, length):\n",
    "        if x+1 == length:\n",
    "            break\n",
    "        data = temp_log_data[x:x+1]\n",
    "        #初始化各类初值，0-》无 1-》有1次某一次行为\n",
    "        normal_visited, sql_flag, pay_flatform, spider, illegal_url, trojan = 0, 0, 0, 0, 0, 0 #对应的是正常访问，sql注入，非支付平台，爬虫，非合理url，挂马\n",
    "        \n",
    "        if reg_check(spider_reg, data[\"ua\"].values[0]):\n",
    "            spider = 1\n",
    "        if reg_check(trojan_reg, data[\"request\"].values[0]):\n",
    "            trojan = 1\n",
    "        if reg_check(illegal_url_reg, data[\"request\"].values[0]):\n",
    "            illegal_url = 1\n",
    "        if not reg_check(pay_flatform_reg, data[\"ua\"].values[0]) and spider==0:\n",
    "            pay_flatform = 1\n",
    "        if reg_check(sql_reg, data[\"request\"].values[0]):\n",
    "            sql_flag = 1\n",
    "        \n",
    "        if spider == 0 and trojan == 0 and illegal_url == 0 and pay_flatform == 0 and sql_flag == 0:\n",
    "            normal_visited = 1\n",
    "        \n",
    "        #将全部ip 全部向量放入列表\n",
    "        ip_list.append(str(data[\"sip\"].values[0]))\n",
    "        req_list.append(str(data[\"request\"].values[0]))\n",
    "        temp_matrix.append(np.array([normal_visited, sql_flag, pay_flatform, spider, illegal_url, trojan], dtype=int))\n",
    "        \n",
    "    return ip_list, np.array(temp_matrix,dtype=int), req_list"
   ]
  },
  {
   "cell_type": "code",
   "execution_count": 89,
   "metadata": {
    "collapsed": true
   },
   "outputs": [],
   "source": [
    "# 得到时间窗口内所有ip操作矩阵的重复ip下标\n",
    "def get_multiplicity_ip(ip_list):\n",
    "    multiplicity_ip_dict = dict()\n",
    "    for index,value in enumerate(ip_list):\n",
    "        if value not in multiplicity_ip_dict.keys():\n",
    "            multiplicity_ip_dict[value] = list()\n",
    "        multiplicity_ip_dict[value].append(index)\n",
    "    return multiplicity_ip_dict"
   ]
  },
  {
   "cell_type": "code",
   "execution_count": 90,
   "metadata": {
    "collapsed": true
   },
   "outputs": [],
   "source": [
    "#将得到的某1分钟数据合并并追加至总的矩阵中，返回总矩阵、ip_dict和ip_reserve_dict\n",
    "def merge_vector(temp_matrix, multiplicity_ip_dict, ip_dict, ip_reserve_list, all_matrix):\n",
    "    for ip in multiplicity_ip_dict.keys():\n",
    "        index = int(all_matrix.shape[0])\n",
    "        number = np.array([0,0,0,0,0,0], dtype=int)\n",
    "        for ip_index in multiplicity_ip_dict[ip]:\n",
    "            number += temp_matrix[ip_index]\n",
    "        all_matrix = np.concatenate((all_matrix,np.array([number],dtype=int)), axis=0)\n",
    "        \n",
    "        ip_reserve_list.append(ip)\n",
    "        if ip not in ip_dict.keys():\n",
    "            ip_dict[ip] = list()\n",
    "        if index not in ip_dict[ip]:\n",
    "            ip_dict[ip].append(index)\n",
    "        \n",
    "    return all_matrix, ip_dict, ip_reserve_list"
   ]
  },
  {
   "cell_type": "code",
   "execution_count": 91,
   "metadata": {
    "collapsed": true
   },
   "outputs": [],
   "source": [
    "#拼接数据，自行把每个小的矩阵读取出来，然后合并撑大的\n",
    "def create_data_by_time_range(all_log, start_time, end_time, time_step, time_windows):\n",
    "    global ip_dict, ip_reserve_list, all_matrix\n",
    "    #每隔time_step秒读取一次日志，未实现\n",
    "    #all_log, log_index = load_log('access_api_shunnengnet_com_json.log')\n",
    "    start_date = datetime.strptime(start_time,'%Y-%m-%d %H:%M:%S')\n",
    "    end_date = datetime.strptime(end_time,'%Y-%m-%d %H:%M:%S')\n",
    "    \n",
    "    while True:\n",
    "        if start_date > end_date:\n",
    "            break\n",
    "        #增加判断，防止获取的数据内容超出时间窗口\n",
    "        next_date = start_date + timedelta(seconds=time_step)\n",
    "        if next_date > end_date:\n",
    "            time_windows = (next_date - end_date).seconds\n",
    "        temp_log_data = load_log_by_interval(all_log, time_windows, start_date)\n",
    "        #print (start_date, time_windows, temp_log_data.shape)\n",
    "        ip_list, temp_matrix = cerate_one_hot_encodeing(temp_log_data)\n",
    "        multiplicity_ip_dict = get_multiplicity_ip(ip_list)\n",
    "        all_matrix, ip_dict, ip_reserve_list = merge_vector(temp_matrix,multiplicity_ip_dict, ip_dict, ip_reserve_list, all_matrix)\n",
    "        #正常情况下下一次循环的开始时间应该是这次循环得到的next_date\n",
    "        start_date = next_date\n",
    "    \n",
    "    return all_matrix, ip_dict, ip_reserve_list"
   ]
  },
  {
   "cell_type": "code",
   "execution_count": 92,
   "metadata": {},
   "outputs": [
    {
     "data": {
      "text/plain": [
       "['GET /common/dept/deptList.do?hospital=center&expert=0&r=1499898309662 HTTP/1.1',\n",
       " 'GET /common/arrangement/arrangementList.do?record_sn=01002vsche20099||299&r=1499898294930 HTTP/1.1',\n",
       " 'POST /dept/getDept.do HTTP/1.1',\n",
       " 'POST /arrangement/getTimeList.do HTTP/1.1',\n",
       " 'GET /common/arrangement/arrangementList.do?record_sn=01002vsche20315||119&r=1499898311083 HTTP/1.1',\n",
       " 'GET /common/arrangement/arrangementList.do?type=4&code=0410LjUS18ZWaa1Ny1TS1HclUS10LjUY&state=weixinAuthorize HTTP/1.1',\n",
       " 'POST /coreServlet?signature=42f16c8edc324b93433b7728fdb958729cd8683b&timestamp=1499898313&nonce=446550925&openid=ocH2et-kWSo6Lh31gA5fGl-87xFM HTTP/1.1',\n",
       " 'GET /common/reserve/reserveConfirm.do?time=08:05&r=1499898300106 HTTP/1.1',\n",
       " 'POST /reserve/reserveConfirm.do HTTP/1.1',\n",
       " 'POST /arrangement/getTimeList.do HTTP/1.1',\n",
       " 'GET /common/arrangement/notice.do?type=4&code=061zVoAs1MCBKp0XXSys1GTrAs1zVoAj&state=wx HTTP/1.1',\n",
       " 'POST /dept/getDept.do HTTP/1.1',\n",
       " 'POST /common/chooseHospital/chooseHospital.do?clinicType=normal HTTP/1.1',\n",
       " 'GET /common/reserve/reserveConfirm.do?time=16:05&r=1499898316394 HTTP/1.1',\n",
       " 'POST /reserve/reserveConfirm.do HTTP/1.1',\n",
       " 'POST /coreServlet?signature=f2884c0cb98179d619118bc87667f7bf30e35d89&timestamp=1499898318&nonce=1527078438&openid=ocH2et3gfqkaSRoSR5zGbIeXZEE4 HTTP/1.1',\n",
       " 'GET /daohang.html?code=041q2Pde2wsHiB0vZMae2n9yde2q2Pdo&state=wx HTTP/1.1',\n",
       " 'GET /common/chooseExpert/chooseExpert.do?hospital=center&r=1499898318154 HTTP/1.1',\n",
       " 'POST /common/chooseHospital/chooseHospital.do?clinicType=normal HTTP/1.1',\n",
       " 'GET /common/chooseExpert/expertNotice.do?hospital=center&expert=1 HTTP/1.1',\n",
       " 'GET /patientinfo/patientinfo.do HTTP/1.1',\n",
       " 'POST /coreServlet?signature=c58d0770a7db25fdff63d76371b8f33fc48fc15d&timestamp=1499898321&nonce=236316493&openid=ocH2et599iz1_oWu1a-neGa5kf9M HTTP/1.1',\n",
       " 'POST /coreServlet?signature=de842cd6d3d66a87dd9cdc32b8eee605a68eb667&timestamp=1499898321&nonce=1856620284&openid=ocH2et7iy5R9S_oLYvEVoizxQ0YM HTTP/1.1',\n",
       " 'GET /common/patientinfo/patientList.do?href=http://sdsl.shunnengnet.com/common/reserve/reserveConfirm.do?time=16:05&r=1499898316394 HTTP/1.1',\n",
       " 'POST /common/dept/deptList.do?hospital=center&expert=1&r=1499898321473 HTTP/1.1',\n",
       " 'POST /dept/getDept.do HTTP/1.1',\n",
       " 'GET /patientinfo/patientinfo.do HTTP/1.1',\n",
       " 'GET /common/chooseExpert/chooseExpert.do?hospital=center&r=1499898326230 HTTP/1.1',\n",
       " 'GET /common/reserve/reserveConfirm.do?time=16:05&patId=6006f2e9-64ef-4e2b-a4c7-7d2b976ccc2e HTTP/1.1',\n",
       " 'GET /common/arrangement/scheduleByDept.do?deptCode=568&r=1499898314475 HTTP/1.1',\n",
       " 'POST /patientinfo/checkIdCard.do HTTP/1.1',\n",
       " 'GET /common/arrangement/notice.do?type=4&code=0812nxvn02Wqmq1oufxn0auMvn02nxvd&state=wx HTTP/1.1',\n",
       " 'POST /arrangement/scheduleByDept.do HTTP/1.1',\n",
       " 'POST /reserve/reserveConfirm.do HTTP/1.1',\n",
       " 'GET /common/chooseExpert/expertNotice.do?hospital=center&expert=1 HTTP/1.1',\n",
       " 'GET /common/arrangement/scheduleByDept.do?deptCode=1112*&r=1499898323834 HTTP/1.1',\n",
       " 'POST /patientinfo/create.do HTTP/1.1',\n",
       " 'GET /common/reserve/reserveConfirm.do?time=14:20 HTTP/1.1',\n",
       " 'POST /common/chooseHospital/chooseHospital.do?clinicType=normal HTTP/1.1',\n",
       " 'POST /reserve/reserveConfirm.do HTTP/1.1',\n",
       " 'POST /arrangement/scheduleByDept.do HTTP/1.1',\n",
       " 'POST /reserve/reserve.do HTTP/1.1',\n",
       " 'GET /common/chooseExpert/chooseExpert.do?hospital=center&r=1499898330973 HTTP/1.1',\n",
       " 'GET /common/dept/deptList.do?hospital=center&expert=0&r=1499898332486 HTTP/1.1',\n",
       " 'POST /common/dept/deptList.do?hospital=center&expert=1&r=1499898330423 HTTP/1.1',\n",
       " 'POST /dept/getDept.do HTTP/1.1',\n",
       " 'POST /dept/getDept.do HTTP/1.1',\n",
       " 'GET /welcome.html HTTP/1.1',\n",
       " 'POST /dept/getDept.do HTTP/1.1',\n",
       " 'GET /common/arrangement/scheduleByDept.do?deptCode=56&r=1499898334006 HTTP/1.1',\n",
       " 'POST /dept/getDept.do HTTP/1.1',\n",
       " 'POST /arrangement/scheduleByDept.do HTTP/1.1',\n",
       " 'POST /reserve/reserve.do HTTP/1.1',\n",
       " 'GET /common/arrangement/scheduleByDept.do?deptCode=118&r=1499898340047 HTTP/1.1',\n",
       " 'POST /arrangement/scheduleByDept.do HTTP/1.1',\n",
       " 'GET /common/specialty/specialClinic.do?hospital=center&expert=2&r=1499898346618 HTTP/1.1',\n",
       " 'POST /dept/getDept.do HTTP/1.1',\n",
       " 'POST /specialty/getDepts.do HTTP/1.1',\n",
       " 'POST /dept/getDept.do HTTP/1.1',\n",
       " 'POST /coreServlet?signature=e15fecc19b761da3940cbf529cc0a197343bb1f4&timestamp=1499898353&nonce=573955351&openid=ocH2et7wqqhXzztUtpfbkOEfTTWE HTTP/1.1',\n",
       " 'POST /coreServlet?signature=f62427137add439421e989eccc0b6afa6d747c5e&timestamp=1499898353&nonce=993185011&openid=ocH2et0rHodXVySJqTHqL5nmQ-Qo HTTP/1.1',\n",
       " 'GET /common/arrangement/notice.do?type=4&code=031AEdQ52PzZ5N0I69N52VMmQ52AEdQz&state=wx HTTP/1.1',\n",
       " 'GET /noticePage.html HTTP/1.1',\n",
       " 'POST /dept/getDept.do HTTP/1.1',\n",
       " 'GET /common/arrangement/arrangementList.do?record_sn=01001vsche10233||809&r=1499898353938 HTTP/1.1',\n",
       " 'GET /common/arrangement/arrangementList.do?type=4&code=051sHbjC0Q6Kdd2VQjgC0ceejC0sHbjr&state=weixinAuthorize HTTP/1.1',\n",
       " 'GET /common/patientinfo/login.do?type=4&callback=http://sdsl.shunnengnet.com/common/arrangement/arrangementList.do HTTP/1.1',\n",
       " 'GET /common/arrangement/notice.do?type=4&code=071wpwPb1h8XFr0nnoPb1rINPb1wpwPD&state=wx HTTP/1.1',\n",
       " 'POST /coreServlet?signature=634a56cf49dd621e716efbe1a4ba3631165088d7&timestamp=1499898356&nonce=1650779124&openid=ocH2et3q7fin-yJhX36tP7QHdoS8 HTTP/1.1',\n",
       " 'GET /common/dept/deptList.do?hospital=center&expert=0&r=1499898356410 HTTP/1.1',\n",
       " 'POST /dept/getDept.do HTTP/1.1',\n",
       " 'POST /arrangement/scheduleByDept.do HTTP/1.1',\n",
       " 'GET /common/arrangement/notice.do?type=4&code=051stBkR1eved718MXjR1mXxkR1stBkx&state=wx HTTP/1.1',\n",
       " 'POST /dept/getDept.do HTTP/1.1',\n",
       " 'GET /common/specialty/specialSchedule.do?deptCode=1031&r=1499898347247 HTTP/1.1',\n",
       " 'POST /specialty/specialSchedule.do HTTP/1.1',\n",
       " 'GET /common/arrangement/scheduleByDept.do?deptCode=1120*&r=1499898335522 HTTP/1.1',\n",
       " 'GET /common/chooseExpert/chooseExpert.do?hospital=east&r=1499898361682 HTTP/1.1',\n",
       " 'POST /arrangement/scheduleByDept.do HTTP/1.1',\n",
       " 'POST /coreServlet?signature=e1233f6f2533c5d7011f8d13e9ea66d45b95f6b6&timestamp=1499898362&nonce=841860097&openid=ocH2et_iKr65uCmmSfgAWqocDJgk HTTP/1.1',\n",
       " 'POST /common/chooseHospital/chooseHospital.do?clinicType=normal HTTP/1.1',\n",
       " 'GET /common/arrangement/notice.do?type=4&code=051kLSN62IMq3M051eP62Bd6O62kLSN5&state=wx HTTP/1.1',\n",
       " 'POST /common/chooseHospital/chooseHospital.do?clinicType=normal HTTP/1.1',\n",
       " 'GET /common/chooseExpert/chooseExpert.do?hospital=center&r=1499898364749 HTTP/1.1',\n",
       " 'GET /common/arrangement/scheduleByDept.do?deptCode=583&r=1499898357343 HTTP/1.1',\n",
       " 'GET /common/chooseExpert/chooseExpert.do?hospital=east&r=1499898365706 HTTP/1.1',\n",
       " 'POST /coreServlet?signature=7e5894e8caf14fdabed622959dec995ace88be53&timestamp=1499898365&nonce=147544085&openid=ocH2et52HKgNoDMsNTD-6Y-mz4cI HTTP/1.1',\n",
       " 'GET /common/arrangement/notice.do?type=4&code=0317EbH70GK6AK1AA4I70Zf7H707EbHv&state=wx HTTP/1.1',\n",
       " 'POST /arrangement/scheduleByDept.do HTTP/1.1',\n",
       " 'POST /common/chooseHospital/chooseHospital.do?clinicType=normal HTTP/1.1',\n",
       " 'GET /common/dept/deptList.do?hospital=center&expert=0&r=1499898367533 HTTP/1.1',\n",
       " 'POST /common/dept/deptList.do?hospital=east&expert=1&r=1499898366889 HTTP/1.1',\n",
       " 'POST /dept/getDept.do HTTP/1.1',\n",
       " 'POST /common/chooseHospital/chooseHospital.do?clinicType=normal HTTP/1.1']"
      ]
     },
     "execution_count": 92,
     "metadata": {},
     "output_type": "execute_result"
    }
   ],
   "source": [
    "temp_log_data = load_log_by_interval(all_log, 60, datetime.strptime('2017-07-13 06:25:08','%Y-%m-%d %H:%M:%S'))\n",
    "ip_list, temp_matrix, req_list = cerate_one_hot_encodeing(temp_log_data)\n",
    "multiplicity_ip_dict = get_multiplicity_ip(ip_list)\n",
    "all_matrix, ip_dict, ip_reserve_list = merge_vector(temp_matrix,multiplicity_ip_dict, ip_dict, ip_reserve_list, all_matrix)\n",
    "req_list"
   ]
  },
  {
   "cell_type": "code",
   "execution_count": 65,
   "metadata": {},
   "outputs": [],
   "source": [
    "#常量定义\n",
    "time_step = 30 #每x秒读取一次log文件\n",
    "time_windows = 60 #秒,时间窗口\n",
    "ip_dict = dict() #ip与对应操作在矩阵的下标\n",
    "ip_reserve_list = list() #操作矩阵下标对应的ip\n",
    "all_matrix = np.empty([0, 6],dtype=int)  #操作矩阵\n",
    "all_log = pd.DataFrame() #所有的日志数据\n",
    "temp_log_data = pd.DataFrame() #某时间范围的日志数据\n",
    "time_index = '2017-07-10 06:25:08' #记录当前的时间\n",
    "log_index = 0 #记录读到第几行了\n",
    "\n",
    "# increment_log_data, log_index = load_log('access_api_shunnengnet_com_json.log', 0)\n",
    "increment_log_data, log_index = load_log('0713_access_sdsl_shunnengnet_com_json.log', 0)\n",
    "\n",
    "all_log = all_log.append(increment_log_data)"
   ]
  },
  {
   "cell_type": "code",
   "execution_count": 66,
   "metadata": {},
   "outputs": [
    {
     "name": "stdout",
     "output_type": "stream",
     "text": [
      "250\n"
     ]
    }
   ],
   "source": [
    "starttime = datetime.now()\n",
    "all_matrix, ip_dict, ip_reserve_list = create_data_by_time_range(all_log, '2017-07-13 06:25:08', '2017-07-13 23:59:59', time_step, time_windows)\n",
    "endtime = datetime.now()\n",
    "print((endtime - starttime).seconds)"
   ]
  },
  {
   "cell_type": "code",
   "execution_count": 67,
   "metadata": {},
   "outputs": [
    {
     "data": {
      "text/plain": [
       "(99621, 6)"
      ]
     },
     "execution_count": 67,
     "metadata": {},
     "output_type": "execute_result"
    }
   ],
   "source": [
    "all_matrix.shape"
   ]
  },
  {
   "cell_type": "code",
   "execution_count": 68,
   "metadata": {},
   "outputs": [
    {
     "data": {
      "text/plain": [
       "99621"
      ]
     },
     "execution_count": 68,
     "metadata": {},
     "output_type": "execute_result"
    }
   ],
   "source": [
    "sum = 0\n",
    "for value in ip_dict:\n",
    "    sum = sum + len(ip_dict[value])\n",
    "sum"
   ]
  },
  {
   "cell_type": "code",
   "execution_count": 69,
   "metadata": {},
   "outputs": [
    {
     "data": {
      "text/plain": [
       "99621"
      ]
     },
     "execution_count": 69,
     "metadata": {},
     "output_type": "execute_result"
    }
   ],
   "source": [
    "len(ip_reserve_list)"
   ]
  },
  {
   "cell_type": "code",
   "execution_count": 70,
   "metadata": {},
   "outputs": [
    {
     "data": {
      "text/plain": [
       "['39.83.116.23',\n",
       " '39.82.39.73',\n",
       " '223.104.186.241',\n",
       " '140.207.54.79',\n",
       " '117.136.94.220']"
      ]
     },
     "execution_count": 70,
     "metadata": {},
     "output_type": "execute_result"
    }
   ],
   "source": [
    "ip_reserve_list[:5]"
   ]
  },
  {
   "cell_type": "code",
   "execution_count": 71,
   "metadata": {},
   "outputs": [
    {
     "name": "stdout",
     "output_type": "stream",
     "text": [
      "0 10583 0 0.0\n",
      "1 14826 14826 0.027245062223\n",
      "2 10420 20840 0.0382967150092\n",
      "3 8466 25398 0.0466727431768\n",
      "4 7119 28476 0.0523290430232\n",
      "5 8386 41930 0.0770528435862\n",
      "6 6439 38634 0.0709959351088\n",
      "7 10697 74879 0.137601714164\n",
      "8 5038 40304 0.0740648177414\n",
      "9 3462 31158 0.0572576317782\n",
      "10 3249 32490 0.0597053872673\n",
      "11 2351 25861 0.0475235771043\n",
      "12 1942 23304 0.0428246951332\n",
      "13 1736 22568 0.0414721815896\n",
      "14 1473 20622 0.0378961063781\n",
      "15 769 11535 0.0211973420169\n",
      "16 612 9792 0.0179943106224\n",
      "17 455 7735 0.0142142557868\n",
      "18 306 5508 0.0101217997251\n",
      "19 245 4655 0.00855428063186\n",
      "20 209 4180 0.0076813948531\n",
      "21 154 3234 0.00594297391266\n",
      "22 87 1914 0.00351727027484\n",
      "23 75 1725 0.00316995361761\n",
      "24 64 1536 0.00282263696037\n",
      "25 47 1175 0.00215924376851\n",
      "26 51 1326 0.00243672956345\n",
      "27 68 1836 0.0033739332417\n",
      "28 57 1596 0.00293289621664\n",
      "29 33 957 0.00175863513742\n",
      "30 27 810 0.00148849995957\n",
      "31 19 589 0.00108237836566\n",
      "32 13 416 0.000764464176768\n",
      "33 14 462 0.000848996273237\n",
      "34 26 884 0.00162448637563\n",
      "35 15 525 0.000964768492315\n",
      "36 31 1116 0.00205082216652\n",
      "37 2 74 0.00013598641606\n",
      "38 5 190 0.000349154311504\n",
      "39 3 117 0.000215005549716\n",
      "40 7 280 0.000514543195901\n",
      "41 1 41 7.53438251141e-05\n",
      "42 0 0 0.0\n",
      "43 3 129 0.000237057400969\n",
      "44 1 44 8.08567879273e-05\n",
      "45 2 90 0.000165388884397\n",
      "46 1 46 8.45320964695e-05\n",
      "47 1 47 8.63697507406e-05\n",
      "48 0 0 0.0\n",
      "49 0 0 0.0\n",
      "50 1 50 9.18827135538e-05\n",
      "51 0 0 0.0\n",
      "52 0 0 0.0\n",
      "53 1 53 9.7395676367e-05\n",
      "54 0 0 0.0\n",
      "55 0 0 0.0\n",
      "56 0 0 0.0\n",
      "57 1 57 0.000104746293451\n",
      "58 0 0 0.0\n",
      "59 0 0 0.0\n",
      "60 0 0 0.0\n",
      "61 0 0 0.0\n",
      "62 0 0 0.0\n",
      "63 0 0 0.0\n",
      "64 0 0 0.0\n",
      "65 0 0 0.0\n",
      "66 0 0 0.0\n",
      "67 0 0 0.0\n",
      "68 0 0 0.0\n",
      "69 0 0 0.0\n",
      "70 0 0 0.0\n",
      "71 0 0 0.0\n",
      "72 1 72 0.000132311107517\n",
      "73 0 0 0.0\n",
      "74 0 0 0.0\n",
      "75 0 0 0.0\n",
      "76 0 0 0.0\n",
      "77 0 0 0.0\n",
      "78 0 0 0.0\n",
      "79 0 0 0.0\n",
      "80 0 0 0.0\n",
      "81 0 0 0.0\n",
      "82 0 0 0.0\n",
      "83 0 0 0.0\n",
      "84 0 0 0.0\n",
      "85 0 0 0.0\n",
      "86 0 0 0.0\n",
      "87 0 0 0.0\n",
      "88 0 0 0.0\n",
      "89 0 0 0.0\n",
      "90 0 0 0.0\n",
      "91 0 0 0.0\n",
      "92 0 0 0.0\n",
      "93 0 0 0.0\n",
      "94 0 0 0.0\n",
      "95 0 0 0.0\n",
      "96 0 0 0.0\n",
      "97 0 0 0.0\n",
      "98 0 0 0.0\n",
      "99 0 0 0.0\n",
      "100 0 0 0.0\n",
      "101 0 0 0.0\n",
      "102 1 102 0.00018744073565\n",
      "103 0 0 0.0\n",
      "104 0 0 0.0\n",
      "105 0 0 0.0\n",
      "106 0 0 0.0\n",
      "107 0 0 0.0\n",
      "108 0 0 0.0\n",
      "109 0 0 0.0\n",
      "110 0 0 0.0\n",
      "111 0 0 0.0\n",
      "112 0 0 0.0\n",
      "113 0 0 0.0\n",
      "114 0 0 0.0\n",
      "115 0 0 0.0\n",
      "116 0 0 0.0\n",
      "117 0 0 0.0\n",
      "118 0 0 0.0\n",
      "119 0 0 0.0\n",
      "120 0 0 0.0\n",
      "121 0 0 0.0\n",
      "122 0 0 0.0\n",
      "123 0 0 0.0\n",
      "124 0 0 0.0\n",
      "125 0 0 0.0\n",
      "126 0 0 0.0\n",
      "127 0 0 0.0\n",
      "128 0 0 0.0\n",
      "129 0 0 0.0\n",
      "130 0 0 0.0\n",
      "131 0 0 0.0\n",
      "132 0 0 0.0\n",
      "133 0 0 0.0\n",
      "134 0 0 0.0\n",
      "135 0 0 0.0\n",
      "136 0 0 0.0\n",
      "137 0 0 0.0\n",
      "138 0 0 0.0\n",
      "139 0 0 0.0\n",
      "140 0 0 0.0\n",
      "141 0 0 0.0\n",
      "142 0 0 0.0\n",
      "143 0 0 0.0\n",
      "144 0 0 0.0\n",
      "145 0 0 0.0\n",
      "146 0 0 0.0\n",
      "147 0 0 0.0\n",
      "148 0 0 0.0\n",
      "149 0 0 0.0\n",
      "150 0 0 0.0\n",
      "151 0 0 0.0\n",
      "152 0 0 0.0\n",
      "153 0 0 0.0\n",
      "154 0 0 0.0\n",
      "155 0 0 0.0\n",
      "156 0 0 0.0\n",
      "157 0 0 0.0\n",
      "158 0 0 0.0\n",
      "159 0 0 0.0\n",
      "160 0 0 0.0\n",
      "161 0 0 0.0\n",
      "162 0 0 0.0\n",
      "163 0 0 0.0\n",
      "164 0 0 0.0\n",
      "165 0 0 0.0\n",
      "166 0 0 0.0\n",
      "167 1 167 0.00030688826327\n",
      "168 0 0 0.0\n",
      "169 0 0 0.0\n",
      "170 0 0 0.0\n",
      "171 0 0 0.0\n",
      "172 0 0 0.0\n",
      "173 0 0 0.0\n",
      "174 0 0 0.0\n",
      "175 0 0 0.0\n",
      "176 0 0 0.0\n",
      "177 0 0 0.0\n",
      "178 0 0 0.0\n",
      "179 0 0 0.0\n",
      "180 0 0 0.0\n",
      "181 1 181 0.000332615423065\n",
      "182 1 182 0.000334453077336\n",
      "183 0 0 0.0\n",
      "184 1 184 0.000338128385878\n",
      "185 0 0 0.0\n",
      "186 0 0 0.0\n",
      "187 0 0 0.0\n",
      "188 0 0 0.0\n",
      "189 0 0 0.0\n",
      "190 0 0 0.0\n",
      "191 0 0 0.0\n",
      "192 0 0 0.0\n",
      "193 0 0 0.0\n",
      "194 0 0 0.0\n",
      "195 0 0 0.0\n",
      "196 0 0 0.0\n",
      "197 0 0 0.0\n",
      "198 0 0 0.0\n",
      "199 0 0 0.0\n",
      "200 0 0 0.0\n",
      "201 0 0 0.0\n",
      "202 0 0 0.0\n",
      "203 0 0 0.0\n",
      "204 0 0 0.0\n",
      "205 0 0 0.0\n",
      "206 0 0 0.0\n",
      "207 0 0 0.0\n",
      "208 0 0 0.0\n",
      "209 0 0 0.0\n",
      "210 0 0 0.0\n",
      "211 0 0 0.0\n",
      "212 0 0 0.0\n",
      "213 0 0 0.0\n",
      "214 0 0 0.0\n",
      "215 0 0 0.0\n",
      "216 0 0 0.0\n",
      "217 0 0 0.0\n",
      "218 0 0 0.0\n",
      "219 0 0 0.0\n",
      "220 0 0 0.0\n",
      "221 0 0 0.0\n",
      "222 0 0 0.0\n",
      "223 0 0 0.0\n",
      "224 0 0 0.0\n",
      "225 0 0 0.0\n",
      "226 0 0 0.0\n",
      "227 0 0 0.0\n",
      "228 0 0 0.0\n",
      "229 0 0 0.0\n",
      "230 0 0 0.0\n",
      "231 0 0 0.0\n",
      "232 0 0 0.0\n",
      "233 0 0 0.0\n",
      "234 0 0 0.0\n",
      "235 0 0 0.0\n",
      "236 0 0 0.0\n",
      "237 0 0 0.0\n",
      "238 0 0 0.0\n",
      "239 0 0 0.0\n",
      "240 0 0 0.0\n",
      "241 0 0 0.0\n",
      "242 0 0 0.0\n",
      "243 0 0 0.0\n",
      "244 0 0 0.0\n",
      "245 0 0 0.0\n",
      "246 0 0 0.0\n",
      "247 0 0 0.0\n",
      "248 0 0 0.0\n",
      "249 0 0 0.0\n",
      "250 0 0 0.0\n",
      "251 0 0 0.0\n",
      "252 0 0 0.0\n",
      "253 0 0 0.0\n",
      "254 0 0 0.0\n",
      "255 0 0 0.0\n",
      "256 0 0 0.0\n",
      "257 0 0 0.0\n",
      "258 0 0 0.0\n",
      "259 0 0 0.0\n",
      "260 0 0 0.0\n",
      "261 0 0 0.0\n",
      "262 0 0 0.0\n",
      "263 0 0 0.0\n",
      "264 0 0 0.0\n",
      "265 0 0 0.0\n",
      "266 0 0 0.0\n",
      "267 0 0 0.0\n",
      "268 0 0 0.0\n",
      "269 0 0 0.0\n",
      "270 1 270 0.000496166653191\n",
      "271 0 0 0.0\n",
      "272 0 0 0.0\n",
      "273 0 0 0.0\n",
      "274 0 0 0.0\n",
      "275 0 0 0.0\n",
      "276 0 0 0.0\n",
      "277 0 0 0.0\n",
      "278 0 0 0.0\n",
      "279 0 0 0.0\n",
      "280 0 0 0.0\n",
      "281 0 0 0.0\n",
      "282 0 0 0.0\n",
      "283 0 0 0.0\n",
      "284 0 0 0.0\n",
      "285 0 0 0.0\n",
      "286 0 0 0.0\n",
      "287 0 0 0.0\n",
      "288 1 288 0.00052924443007\n",
      "289 1 289 0.000531082084341\n",
      "290 0 0 0.0\n",
      "291 0 0 0.0\n",
      "292 0 0 0.0\n",
      "293 0 0 0.0\n",
      "294 0 0 0.0\n",
      "295 0 0 0.0\n",
      "296 0 0 0.0\n",
      "297 0 0 0.0\n",
      "298 0 0 0.0\n",
      "299 0 0 0.0\n",
      "300 0 0 0.0\n",
      "301 0 0 0.0\n",
      "302 0 0 0.0\n",
      "303 0 0 0.0\n",
      "304 0 0 0.0\n",
      "305 0 0 0.0\n",
      "306 0 0 0.0\n",
      "307 0 0 0.0\n",
      "308 0 0 0.0\n",
      "309 0 0 0.0\n",
      "310 0 0 0.0\n",
      "311 0 0 0.0\n",
      "312 0 0 0.0\n",
      "313 0 0 0.0\n",
      "314 0 0 0.0\n",
      "315 0 0 0.0\n",
      "316 0 0 0.0\n",
      "317 0 0 0.0\n",
      "318 0 0 0.0\n",
      "319 0 0 0.0\n",
      "320 0 0 0.0\n",
      "321 0 0 0.0\n",
      "322 0 0 0.0\n",
      "323 0 0 0.0\n",
      "324 0 0 0.0\n",
      "325 0 0 0.0\n",
      "326 0 0 0.0\n",
      "327 0 0 0.0\n",
      "328 0 0 0.0\n",
      "329 0 0 0.0\n",
      "330 0 0 0.0\n",
      "331 0 0 0.0\n",
      "332 0 0 0.0\n",
      "333 0 0 0.0\n",
      "334 0 0 0.0\n",
      "335 0 0 0.0\n",
      "336 0 0 0.0\n",
      "337 0 0 0.0\n",
      "338 0 0 0.0\n",
      "339 0 0 0.0\n",
      "340 0 0 0.0\n",
      "341 0 0 0.0\n",
      "342 0 0 0.0\n",
      "343 0 0 0.0\n",
      "344 0 0 0.0\n",
      "345 0 0 0.0\n",
      "346 0 0 0.0\n",
      "347 0 0 0.0\n",
      "348 0 0 0.0\n",
      "349 0 0 0.0\n"
     ]
    }
   ],
   "source": [
    "total_access = all_matrix[:,0].sum()\n",
    "a = np.zeros([350,2])\n",
    "for i in range(350):\n",
    "    t = (all_matrix[:,0]==i).sum()\n",
    "    print(i,t, t*i, t*i/total_access)\n",
    "    a[i,:] = [t*i, t*i/total_access]"
   ]
  },
  {
   "cell_type": "code",
   "execution_count": 72,
   "metadata": {},
   "outputs": [
    {
     "name": "stdout",
     "output_type": "stream",
     "text": [
      "Populating the interactive namespace from numpy and matplotlib\n"
     ]
    },
    {
     "name": "stderr",
     "output_type": "stream",
     "text": [
      "C:\\Users\\Casy\\AppData\\Local\\conda\\conda\\envs\\tensorflow\\lib\\site-packages\\IPython\\core\\magics\\pylab.py:160: UserWarning: pylab import has clobbered these variables: ['sum', 'datetime']\n",
      "`%matplotlib` prevents importing * from pylab and numpy\n",
      "  \"\\n`%matplotlib` prevents importing * from pylab and numpy\"\n"
     ]
    }
   ],
   "source": [
    "import matplotlib.pyplot as plt # plt 用于显示图片\n",
    "%pylab inline\n",
    "%matplotlib inline"
   ]
  },
  {
   "cell_type": "code",
   "execution_count": 73,
   "metadata": {},
   "outputs": [
    {
     "data": {
      "text/plain": [
       "<matplotlib.axes._subplots.AxesSubplot at 0x8788c18>"
      ]
     },
     "execution_count": 73,
     "metadata": {},
     "output_type": "execute_result"
    },
    {
     "data": {
      "image/png": "[encoded data removed]",
      "text/plain": [
       "<matplotlib.figure.Figure at 0x8782208>"
      ]
     },
     "metadata": {},
     "output_type": "display_data"
    }
   ],
   "source": [
    "pd.DataFrame(a[:,1]).plot()"
   ]
  },
  {
   "cell_type": "code",
   "execution_count": 50,
   "metadata": {},
   "outputs": [
    {
     "data": {
      "text/plain": [
       "array([ 0.        ,  0.00349495,  0.00820224,  0.01239244,  0.01834819,\n",
       "        0.02716344,  0.03539434,  0.0667754 ,  0.09496428,  0.1079498 ,\n",
       "        0.12311329,  0.14080734,  0.15685048,  0.17740529,  0.19971567,\n",
       "        0.2177885 ,  0.23457424,  0.25431543,  0.26922971,  0.2862036 ,\n",
       "        0.30384657,  0.32017379,  0.33886836,  0.3532257 ,  0.3675793 ,\n",
       "        0.38290476,  0.39761222,  0.41026133,  0.42411156,  0.43668591,\n",
       "        0.45047883,  0.46229812,  0.47477778,  0.4863728 ,  0.49687884,\n",
       "        0.50965629,  0.52154286,  0.53117797,  0.54126287,  0.55171035,\n",
       "        0.56237587,  0.57152006,  0.58298052,  0.59337442,  0.6029684 ,\n",
       "        0.61137872,  0.62077833,  0.63090934,  0.63904304,  0.64783462,\n",
       "        0.65512356,  0.66338436,  0.67044653,  0.67817281,  0.68557388,\n",
       "        0.69112469,  0.69740439,  0.70351215,  0.7077036 ,  0.71277595,\n",
       "        0.71987799,  0.7252743 ,  0.73230408,  0.73575791,  0.74054245,\n",
       "        0.74540174,  0.75165154,  0.75682731,  0.76148724,  0.76466821,\n",
       "        0.7694652 ,  0.77326916,  0.77739582,  0.78103406,  0.78536755,\n",
       "        0.78919891,  0.7925132 ,  0.79577516,  0.79810762,  0.80076528,\n",
       "        0.80455303,  0.80798444,  0.81002784,  0.81199273,  0.81366732,\n",
       "        0.81642092,  0.81899261,  0.8210522 ,  0.82258724,  0.82447239,\n",
       "        0.82705156,  0.82875231,  0.83081564,  0.83440778,  0.83663308,\n",
       "        0.83840859,  0.84020279,  0.84116967,  0.8419023 ,  0.84313581,\n",
       "        0.84537856,  0.84726621,  0.84790166,  0.84918501,  0.8506104 ,\n",
       "        0.85152619,  0.85258278,  0.85391597,  0.85472336,  0.8552666 ,\n",
       "        0.85636306,  0.85719287,  0.85886746,  0.85957144,  0.85971348,\n",
       "        0.86085977,  0.86201603,  0.86274493,  0.86333303,  0.8634813 ,\n",
       "        0.8643784 ,  0.86498145,  0.86528546,  0.86605174,  0.86666974,\n",
       "        0.86729273,  0.8679207 ,  0.86807893,  0.86807893,  0.86823967,\n",
       "        0.86953548,  0.86986192,  0.87051979,  0.87101694,  0.87185174,\n",
       "        0.87218815,  0.8723576 ,  0.872699  ,  0.87304289,  0.87356246,\n",
       "        0.87408577,  0.87443713,  0.87496792,  0.87496792,  0.87586502,\n",
       "        0.87640701,  0.87658893,  0.87658893,  0.87658893,  0.87658893,\n",
       "        0.87677582,  0.87734025,  0.87771902,  0.87790966,  0.87829342,\n",
       "        0.87867967,  0.87926278,  0.8794584 ,  0.87965526,  0.87985337,\n",
       "        0.87985337,  0.88025458,  0.88025458,  0.88025458,  0.88025458,\n",
       "        0.88025458,  0.88046141,  0.88046141,  0.88046141,  0.88088255,\n",
       "        0.88088255,  0.88109561,  0.88109561,  0.88109561,  0.88109561,\n",
       "        0.88109561,  0.8813149 ,  0.88153544,  0.88153544,  0.88175847,\n",
       "        0.88220702,  0.88220702,  0.88220702,  0.88220702,  0.88266553,\n",
       "        0.88289604,  0.88289604,  0.88289604,  0.88289604,  0.88289604,\n",
       "        0.88407971,  0.88479365,  0.88598979,  0.88623026,  0.88623026,\n",
       "        0.88623026,  0.88623026,  0.88623026,  0.88623026,  0.88623026,\n",
       "        0.88623026,  0.8864807 ,  0.8864807 ,  0.8864807 ,  0.88673488,\n",
       "        0.88673488,  0.88724822,  0.88802197,  0.88854029,  0.88906111,\n",
       "        0.88932276,  0.88932276,  0.88932276,  0.88985355,  0.89012019,\n",
       "        0.89012019,  0.89012019,  0.89012019,  0.89066343,  0.8909363 ,\n",
       "        0.8909363 ,  0.8909363 ,  0.8909363 ,  0.8909363 ,  0.8909363 ,\n",
       "        0.89121664,  0.89121664,  0.89121664,  0.89121664,  0.89150197,\n",
       "        0.89150197,  0.89150197,  0.89150197,  0.89150197,  0.89179353,\n",
       "        0.89179353,  0.89179353,  0.89208882,  0.89208882,  0.89208882,\n",
       "        0.89208882,  0.89208882,  0.89208882,  0.89208882,  0.89208882,\n",
       "        0.89208882,  0.89208882,  0.89208882,  0.89208882,  0.89208882,\n",
       "        0.89240032,  0.89271306,  0.89271306,  0.89271306,  0.89271306,\n",
       "        0.89271306,  0.89271306,  0.89303327,  0.89303327,  0.89303327,\n",
       "        0.89303327,  0.89303327,  0.89303327,  0.89303327,  0.89303327,\n",
       "        0.89303327,  0.89303327,  0.89336594,  0.89369987,  0.89369987,\n",
       "        0.8947091 ,  0.8947091 ,  0.8947091 ,  0.8947091 ,  0.8947091 ,\n",
       "        0.8947091 ,  0.8947091 ,  0.8947091 ,  0.8947091 ,  0.8947091 ,\n",
       "        0.8947091 ,  0.8947091 ,  0.8947091 ,  0.8947091 ,  0.8947091 ,\n",
       "        0.8947091 ,  0.8947091 ,  0.8950667 ,  0.8950667 ,  0.89542678,\n",
       "        0.89542678,  0.89542678,  0.89542678,  0.89542678,  0.89542678,\n",
       "        0.89579434,  0.89579434,  0.89579434,  0.89579434,  0.89579434,\n",
       "        0.89579434,  0.89579434,  0.89579434,  0.89579434,  0.89579434,\n",
       "        0.89579434,  0.89579434,  0.89579434,  0.89579434,  0.89579434,\n",
       "        0.89579434,  0.89579434,  0.89579434,  0.89579434,  0.89657682,\n",
       "        0.8969693 ,  0.8969693 ,  0.8969693 ,  0.8969693 ,  0.8969693 ,\n",
       "        0.8969693 ,  0.8969693 ,  0.8969693 ,  0.89737175,  0.89737175,\n",
       "        0.89737175,  0.89737175,  0.89737175,  0.89859778,  0.89859778,\n",
       "        0.89859778,  0.89859778,  0.89859778,  0.89859778,  0.89859778,\n",
       "        0.89859778,  0.89901643,  0.89901643,  0.89901643,  0.89901643,\n",
       "        0.89901643,  0.89901643,  0.89944255,  0.89944255,  0.89944255,\n",
       "        0.89944255,  0.89944255,  0.89944255,  0.89944255,  0.8998774 ])"
      ]
     },
     "execution_count": 50,
     "metadata": {},
     "output_type": "execute_result"
    }
   ],
   "source": [
    "a[:,1].cumsum()"
   ]
  },
  {
   "cell_type": "code",
   "execution_count": 51,
   "metadata": {},
   "outputs": [
    {
     "name": "stdout",
     "output_type": "stream",
     "text": [
      "[[0 0 0 0 0 0]\n",
      " [1 0 0 0 0 0]\n",
      " [0 0 0 0 0 0]\n",
      " ..., \n",
      " [0 0 0 0 0 0]\n",
      " [0 0 0 0 0 0]\n",
      " [0 0 0 0 0 0]]\n",
      "[[ 2  0  0  0  0  0]\n",
      " [38  0  0  0  0  0]\n",
      " [10  0  0  0  0  0]\n",
      " ..., \n",
      " [12  0  0  0  0  0]\n",
      " [ 3  0  0  0  0  0]\n",
      " [ 1  0  0  0  0  0]]\n"
     ]
    }
   ],
   "source": [
    "X = all_matrix\n",
    "y = np.zeros([X.shape[0], X.shape[1]],dtype='int32')\n",
    "y[:,0] = X[:,0]>30 #超过20次访问（较高频的访问，占总访问量中10%视为异常）\n",
    "y[:,1:] = X[:,1:]>0\n",
    "X[:,1:] = X[:,1:]>0\n",
    "print(y)\n",
    "print(X)"
   ]
  },
  {
   "cell_type": "code",
   "execution_count": 52,
   "metadata": {},
   "outputs": [
    {
     "name": "stderr",
     "output_type": "stream",
     "text": [
      "C:\\Users\\Casy\\AppData\\Local\\conda\\conda\\envs\\tensorflow\\lib\\site-packages\\sklearn\\utils\\validation.py:429: DataConversionWarning: Data with input dtype int32 was converted to float64 by StandardScaler.\n",
      "  warnings.warn(msg, _DataConversionWarning)\n"
     ]
    }
   ],
   "source": [
    "from sklearn.preprocessing import StandardScaler\n",
    "ss = StandardScaler()\n",
    "X = ss.fit_transform(X)"
   ]
  },
  {
   "cell_type": "code",
   "execution_count": 53,
   "metadata": {
    "collapsed": true
   },
   "outputs": [],
   "source": [
    "# 定义保存数据的类\n",
    "import numpy as np\n",
    "\n",
    "#定义类\n",
    "class IPAccessInfo(object):\n",
    "    def __init__(self, X, y, ip_dict, ip_reserve_list, data_scaler):\n",
    "        self.X = X\n",
    "        self.y = y\n",
    "        self.ip_dict = ip_dict\n",
    "        self.ip_reserve_list = ip_reserve_list\n",
    "        self.data_scaler = data_scaler"
   ]
  },
  {
   "cell_type": "code",
   "execution_count": 55,
   "metadata": {
    "collapsed": true
   },
   "outputs": [],
   "source": [
    "# 保存文件为pkl\n",
    "import pickle\n",
    "\n",
    "iPAccessInfo = IPAccessInfo(X,y,ip_dict, ip_reserve_list, ss)\n",
    "fp = open('iPAccessInfo1800per600.pkl','wb',True)\n",
    "pickle.dump(iPAccessInfo, fp)"
   ]
  },
  {
   "cell_type": "code",
   "execution_count": null,
   "metadata": {
    "collapsed": true
   },
   "outputs": [],
   "source": []
  }
 ],
 "metadata": {
  "kernelspec": {
   "display_name": "Python 3",
   "language": "python",
   "name": "python3"
  },
  "language_info": {
   "codemirror_mode": {
    "name": "ipython",
    "version": 3
   },
   "file_extension": ".py",
   "mimetype": "text/x-python",
   "name": "python",
   "nbconvert_exporter": "python",
   "pygments_lexer": "ipython3",
   "version": "3.6.1"
  }
 },
 "nbformat": 4,
 "nbformat_minor": 2
}
