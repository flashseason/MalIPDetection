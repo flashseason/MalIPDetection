{
 "cells": [
  {
   "cell_type": "code",
   "execution_count": 13,
   "metadata": {
    "collapsed": true
   },
   "outputs": [],
   "source": [
    "# 定义保存数据的类\n",
    "import numpy as np\n",
    "from sklearn.preprocessing import StandardScaler\n",
    "\n",
    "#定义类\n",
    "class IPAccessInfo(object):\n",
    "    def __init__(self, X, y, ip_dict, ip_reserve_list, data_scaler):\n",
    "        self.X = X\n",
    "        self.y = y\n",
    "        self.ip_dict = ip_dict\n",
    "        self.ip_reserve_list = ip_reserve_list\n",
    "        self.data_scaler = data_scaler"
   ]
  },
  {
   "cell_type": "code",
   "execution_count": 14,
   "metadata": {
    "collapsed": true
   },
   "outputs": [],
   "source": [
    "import pickle\n",
    "fp = open('iPAccessInfo.pkl','rb',True)\n",
    "iPAccessInfo = pickle.load(fp)"
   ]
  },
  {
   "cell_type": "code",
   "execution_count": 15,
   "metadata": {},
   "outputs": [
    {
     "name": "stdout",
     "output_type": "stream",
     "text": [
      "(42194, 6)\n",
      "(42194, 6)\n",
      "StandardScaler(copy=True, with_mean=True, with_std=True)\n"
     ]
    }
   ],
   "source": [
    "print(iPAccessInfo.X.shape)\n",
    "print(iPAccessInfo.y.shape)\n",
    "print(iPAccessInfo.data_scaler)"
   ]
  },
  {
   "cell_type": "code",
   "execution_count": 16,
   "metadata": {},
   "outputs": [
    {
     "data": {
      "text/plain": [
       "array([[-0.17549354, -0.06472002, -0.25740818, -0.05018498,  0.        ,\n",
       "         0.        ],\n",
       "       [ 0.19567413, -0.06472002, -0.25740818, -0.05018498,  0.        ,\n",
       "         0.        ],\n",
       "       [-0.09301183, -0.06472002, -0.25740818, -0.05018498,  0.        ,\n",
       "         0.        ],\n",
       "       ..., \n",
       "       [-0.07239141, -0.06472002, -0.25740818, -0.05018498,  0.        ,\n",
       "         0.        ],\n",
       "       [-0.16518332, -0.06472002, -0.25740818, -0.05018498,  0.        ,\n",
       "         0.        ],\n",
       "       [-0.18580375, -0.06472002, -0.25740818, -0.05018498,  0.        ,\n",
       "         0.        ]])"
      ]
     },
     "execution_count": 16,
     "metadata": {},
     "output_type": "execute_result"
    }
   ],
   "source": [
    "iPAccessInfo.X"
   ]
  },
  {
   "cell_type": "code",
   "execution_count": 21,
   "metadata": {},
   "outputs": [
    {
     "name": "stdout",
     "output_type": "stream",
     "text": [
      "(13924, 6) (28270, 6)\n"
     ]
    }
   ],
   "source": [
    "# mount = 5000\n",
    "# train_X = iPAccessInfo.X[:mount]\n",
    "# train_y = iPAccessInfo.y[:mount]\n",
    "\n",
    "# test_X = iPAccessInfo.X[mount:]\n",
    "# test_y = iPAccessInfo.y[mount:]\n",
    "\n",
    "from sklearn.model_selection import train_test_split\n",
    "train_X, test_X, train_y, test_y = train_test_split(iPAccessInfo.X, iPAccessInfo.y, test_size=0.67, random_state=888)\n",
    "\n",
    "print (train_X.shape, test_X.shape)"
   ]
  },
  {
   "cell_type": "code",
   "execution_count": 22,
   "metadata": {},
   "outputs": [
    {
     "name": "stdout",
     "output_type": "stream",
     "text": [
      "Train on 13924 samples, validate on 28270 samples\n",
      "Epoch 1/50\n",
      "13924/13924 [==============================] - 0s - loss: 0.0908 - acc: 0.9726 - val_loss: 0.0208 - val_acc: 0.9942\n",
      "Epoch 2/50\n",
      "13924/13924 [==============================] - 0s - loss: 0.0199 - acc: 0.9961 - val_loss: 0.0204 - val_acc: 0.9984\n",
      "Epoch 3/50\n",
      "13924/13924 [==============================] - 0s - loss: 0.0188 - acc: 0.9966 - val_loss: 0.0190 - val_acc: 0.99470.99\n",
      "Epoch 4/50\n",
      "13924/13924 [==============================] - 0s - loss: 0.0180 - acc: 0.9963 - val_loss: 0.0194 - val_acc: 0.9979\n",
      "Epoch 5/50\n",
      "13924/13924 [==============================] - 0s - loss: 0.0177 - acc: 0.9966 - val_loss: 0.0183 - val_acc: 0.9947\n",
      "Epoch 6/50\n",
      "13924/13924 [==============================] - 0s - loss: 0.0170 - acc: 0.9963 - val_loss: 0.0191 - val_acc: 0.9944\n",
      "Epoch 7/50\n",
      "13924/13924 [==============================] - 0s - loss: 0.0165 - acc: 0.9967 - val_loss: 0.0173 - val_acc: 0.9987\n",
      "Epoch 8/50\n",
      "13924/13924 [==============================] - 0s - loss: 0.0161 - acc: 0.9963 - val_loss: 0.0169 - val_acc: 0.9989\n",
      "Epoch 9/50\n",
      "13924/13924 [==============================] - 0s - loss: 0.0155 - acc: 0.9966 - val_loss: 0.0166 - val_acc: 0.9950\n",
      "Epoch 10/50\n",
      "13924/13924 [==============================] - 0s - loss: 0.0151 - acc: 0.9967 - val_loss: 0.0164 - val_acc: 0.9991\n",
      "Epoch 11/50\n",
      "13924/13924 [==============================] - 0s - loss: 0.0150 - acc: 0.9967 - val_loss: 0.0156 - val_acc: 0.9989\n",
      "Epoch 12/50\n",
      "13924/13924 [==============================] - 0s - loss: 0.0154 - acc: 0.9965 - val_loss: 0.0166 - val_acc: 0.9944\n",
      "Epoch 13/50\n",
      "13924/13924 [==============================] - 0s - loss: 0.0154 - acc: 0.9967 - val_loss: 0.0159 - val_acc: 0.9985\n",
      "Epoch 14/50\n",
      "13924/13924 [==============================] - 0s - loss: 0.0149 - acc: 0.9966 - val_loss: 0.0158 - val_acc: 0.9943\n",
      "Epoch 15/50\n",
      "13924/13924 [==============================] - 0s - loss: 0.0148 - acc: 0.9966 - val_loss: 0.0158 - val_acc: 0.9990\n",
      "Epoch 16/50\n",
      "13924/13924 [==============================] - 0s - loss: 0.0150 - acc: 0.9967 - val_loss: 0.0155 - val_acc: 0.9982\n",
      "Epoch 17/50\n",
      "13924/13924 [==============================] - 0s - loss: 0.0149 - acc: 0.9966 - val_loss: 0.0155 - val_acc: 0.9992\n",
      "Epoch 18/50\n",
      "13924/13924 [==============================] - 0s - loss: 0.0146 - acc: 0.9968 - val_loss: 0.0160 - val_acc: 0.9980\n",
      "Epoch 19/50\n",
      "13924/13924 [==============================] - 0s - loss: 0.0148 - acc: 0.9968 - val_loss: 0.0153 - val_acc: 0.9990\n",
      "Epoch 20/50\n",
      "13924/13924 [==============================] - 0s - loss: 0.0151 - acc: 0.9966 - val_loss: 0.0152 - val_acc: 0.9991\n",
      "Epoch 21/50\n",
      "13924/13924 [==============================] - 0s - loss: 0.0146 - acc: 0.9968 - val_loss: 0.0155 - val_acc: 0.9982\n",
      "Epoch 22/50\n",
      "13924/13924 [==============================] - 0s - loss: 0.0147 - acc: 0.9966 - val_loss: 0.0149 - val_acc: 0.9952\n",
      "Epoch 23/50\n",
      "13924/13924 [==============================] - 0s - loss: 0.0148 - acc: 0.9966 - val_loss: 0.0150 - val_acc: 0.9990\n",
      "Epoch 24/50\n",
      "13924/13924 [==============================] - 0s - loss: 0.0149 - acc: 0.9966 - val_loss: 0.0153 - val_acc: 0.9991\n",
      "Epoch 25/50\n",
      "13924/13924 [==============================] - 0s - loss: 0.0146 - acc: 0.9967 - val_loss: 0.0153 - val_acc: 0.9953\n",
      "Epoch 26/50\n",
      "13924/13924 [==============================] - 0s - loss: 0.0148 - acc: 0.9966 - val_loss: 0.0164 - val_acc: 0.9981\n",
      "Epoch 27/50\n",
      "13924/13924 [==============================] - 0s - loss: 0.0150 - acc: 0.9968 - val_loss: 0.0155 - val_acc: 0.9944\n",
      "Epoch 28/50\n",
      "13924/13924 [==============================] - 0s - loss: 0.0152 - acc: 0.9969 - val_loss: 0.0150 - val_acc: 0.9945\n",
      "Epoch 29/50\n",
      "13924/13924 [==============================] - 0s - loss: 0.0147 - acc: 0.9965 - val_loss: 0.0151 - val_acc: 0.9954\n",
      "Epoch 30/50\n",
      "13924/13924 [==============================] - 0s - loss: 0.0145 - acc: 0.9966 - val_loss: 0.0146 - val_acc: 0.9986\n",
      "Epoch 31/50\n",
      "13924/13924 [==============================] - 0s - loss: 0.0143 - acc: 0.9966 - val_loss: 0.0166 - val_acc: 0.9976\n",
      "Epoch 32/50\n",
      "13924/13924 [==============================] - 0s - loss: 0.0147 - acc: 0.9963 - val_loss: 0.0147 - val_acc: 0.9986\n",
      "Epoch 33/50\n",
      "13924/13924 [==============================] - 0s - loss: 0.0145 - acc: 0.9966 - val_loss: 0.0145 - val_acc: 0.9990\n",
      "Epoch 34/50\n",
      "13924/13924 [==============================] - 0s - loss: 0.0141 - acc: 0.9967 - val_loss: 0.0146 - val_acc: 0.9994\n",
      "Epoch 35/50\n",
      "13924/13924 [==============================] - 0s - loss: 0.0146 - acc: 0.9967 - val_loss: 0.0146 - val_acc: 0.9954\n",
      "Epoch 36/50\n",
      "13924/13924 [==============================] - 0s - loss: 0.0143 - acc: 0.9968 - val_loss: 0.0144 - val_acc: 0.9983\n",
      "Epoch 37/50\n",
      "13924/13924 [==============================] - 0s - loss: 0.0142 - acc: 0.9968 - val_loss: 0.0143 - val_acc: 0.9944\n",
      "Epoch 38/50\n",
      "13924/13924 [==============================] - 0s - loss: 0.0141 - acc: 0.9966 - val_loss: 0.0153 - val_acc: 0.9941\n",
      "Epoch 39/50\n",
      "13924/13924 [==============================] - 0s - loss: 0.0142 - acc: 0.9966 - val_loss: 0.0142 - val_acc: 0.9987\n",
      "Epoch 40/50\n",
      "13924/13924 [==============================] - 0s - loss: 0.0139 - acc: 0.9966 - val_loss: 0.0145 - val_acc: 0.9990\n",
      "Epoch 41/50\n",
      "13924/13924 [==============================] - 0s - loss: 0.0138 - acc: 0.9966 - val_loss: 0.0153 - val_acc: 0.9941\n",
      "Epoch 42/50\n",
      "13924/13924 [==============================] - 0s - loss: 0.0141 - acc: 0.9966 - val_loss: 0.0139 - val_acc: 0.9983\n",
      "Epoch 43/50\n",
      "13924/13924 [==============================] - 0s - loss: 0.0139 - acc: 0.9966 - val_loss: 0.0155 - val_acc: 0.9938\n",
      "Epoch 44/50\n",
      "13924/13924 [==============================] - 0s - loss: 0.0137 - acc: 0.9966 - val_loss: 0.0146 - val_acc: 0.9981\n",
      "Epoch 45/50\n",
      "13924/13924 [==============================] - 0s - loss: 0.0138 - acc: 0.9964 - val_loss: 0.0143 - val_acc: 0.99460.99\n",
      "Epoch 46/50\n",
      "13924/13924 [==============================] - 0s - loss: 0.0137 - acc: 0.9967 - val_loss: 0.0152 - val_acc: 0.9942\n",
      "Epoch 47/50\n",
      "13924/13924 [==============================] - 0s - loss: 0.0141 - acc: 0.9968 - val_loss: 0.0143 - val_acc: 0.9981\n",
      "Epoch 48/50\n",
      "13924/13924 [==============================] - 0s - loss: 0.0138 - acc: 0.9968 - val_loss: 0.0147 - val_acc: 0.9941\n",
      "Epoch 49/50\n",
      "13924/13924 [==============================] - 0s - loss: 0.0138 - acc: 0.9967 - val_loss: 0.0137 - val_acc: 0.9947\n",
      "Epoch 50/50\n",
      "13924/13924 [==============================] - 0s - loss: 0.0133 - acc: 0.9966 - val_loss: 0.0143 - val_acc: 0.9958\n"
     ]
    }
   ],
   "source": [
    "# 定义神经网络\n",
    "# 6个输入，6个输出\n",
    "\n",
    "from keras.layers import Input, Dense\n",
    "from keras.models import Model\n",
    "\n",
    "# This returns a tensor\n",
    "inputs = Input(shape=(6,))\n",
    "\n",
    "# a layer instance is callable on a tensor, and returns a tensor\n",
    "x = Dense(32, activation='relu')(inputs) #第一个隐藏层，使用relu作为激活函数，输出矩阵为1*32?\n",
    "x = Dense(32, activation='relu')(x)#第二个隐藏层，输入为上一个隐层的输出，激活函数为relu，输出矩阵为\n",
    "predictions = Dense(6, activation='softmax')(x)#输出层，6个输出，使用softmax作为最终的激活函数\n",
    "\n",
    "# This creates a model that includes\n",
    "# the Input layer and two Dense layers\n",
    "model = Model(inputs=inputs, outputs=predictions)\n",
    "model.compile(optimizer='rmsprop',\n",
    "              loss='categorical_crossentropy',\n",
    "              metrics=['accuracy'])\n",
    "\n",
    "hist = model.fit(train_X, train_y, verbose=1,\n",
    "         batch_size=32, epochs=50, validation_data=(test_X, test_y))  # starts training\n",
    "\n",
    "# model.fit(train_X, train_y, verbose=1,\n",
    "#           batch_size=32, epochs=50)  # starts training"
   ]
  },
  {
   "cell_type": "code",
   "execution_count": 23,
   "metadata": {
    "collapsed": true
   },
   "outputs": [],
   "source": [
    "#每一个类别，进行识别率和F1-score验证\n",
    "pred_y = model.predict(test_X, batch_size=32, verbose=0)\n",
    "\n",
    "pred_idx = np.argmax(pred_y,axis=1)\n",
    "test_idx = np.argmax(test_y,axis=1)"
   ]
  },
  {
   "cell_type": "code",
   "execution_count": 24,
   "metadata": {},
   "outputs": [
    {
     "name": "stdout",
     "output_type": "stream",
     "text": [
      "             precision    recall  f1-score   support\n",
      "\n",
      "          0       1.00      1.00      1.00     26482\n",
      "          1       1.00      0.04      0.07       111\n",
      "          2       0.93      1.00      0.96      1602\n",
      "          3       1.00      1.00      1.00        75\n",
      "\n",
      "avg / total       1.00      1.00      0.99     28270\n",
      "\n"
     ]
    }
   ],
   "source": [
    "from sklearn.metrics import classification_report\n",
    "\n",
    "print (classification_report(test_idx, pred_idx))\n",
    "# print (test_generator.class_indices)"
   ]
  },
  {
   "cell_type": "code",
   "execution_count": null,
   "metadata": {
    "collapsed": true
   },
   "outputs": [],
   "source": []
  }
 ],
 "metadata": {
  "kernelspec": {
   "display_name": "Python 3",
   "language": "python",
   "name": "python3"
  },
  "language_info": {
   "codemirror_mode": {
    "name": "ipython",
    "version": 3
   },
   "file_extension": ".py",
   "mimetype": "text/x-python",
   "name": "python",
   "nbconvert_exporter": "python",
   "pygments_lexer": "ipython3",
   "version": "3.6.1"
  }
 },
 "nbformat": 4,
 "nbformat_minor": 2
}
